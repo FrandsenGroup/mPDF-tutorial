{
 "cells": [
  {
   "cell_type": "markdown",
   "metadata": {},
   "source": [
    "# Module 3: Slightly more involved mPDF fits"
   ]
  },
  {
   "cell_type": "markdown",
   "metadata": {},
   "source": [
    "Here, we do another mPDF fit for MnO using the atomic PDF fit residual, but we now add parameters to determine the sublattice spin direction and correlation length. We will also see how to estimate uncertainties from our fitting parameters.\n",
    "\n",
    "We'll assume the atomic PDF fit has already been done, so we can jump right to the mPDF part."
   ]
  },
  {
   "cell_type": "code",
   "execution_count": null,
   "metadata": {},
   "outputs": [],
   "source": [
    "### Import the necessary libraries\n",
    "import numpy as np\n",
    "import matplotlib.pyplot as plt\n",
    "from diffpy.mpdf import *\n",
    "from diffpy.structure import loadStructure\n",
    "\n",
    "### Set all plots to be inline\n",
    "%matplotlib notebook"
   ]
  },
  {
   "cell_type": "markdown",
   "metadata": {},
   "source": [
    "The first several cells are identical to the previous tutorial, so you can just speed right through them."
   ]
  },
  {
   "cell_type": "markdown",
   "metadata": {},
   "source": [
    "#### Make the magnetic structure"
   ]
  },
  {
   "cell_type": "code",
   "execution_count": null,
   "metadata": {},
   "outputs": [],
   "source": [
    "# read in the mcif\n",
    "mcif = 'files/1.31_MnO.mcif'\n",
    "mstr = create_from_mcif(mcif, ffparamkey='Mn2')\n",
    "\n",
    "\n",
    "# adjust the unit cell parameters to agree with the results of the structural fit\n",
    "a_fit = 4.4328 # fill in the value from the fit\n",
    "alpha_fit = 90.6434 # fill in the value from the fit\n",
    "mstr.struc.lattice.a = 2*a_fit # multiply by two because the magnetic unit cell is 2x2x2 supercell of atomic cell\n",
    "mstr.struc.lattice.b = 2*a_fit\n",
    "mstr.struc.lattice.c = 2*a_fit\n",
    "mstr.struc.lattice.alpha = alpha_fit\n",
    "mstr.struc.lattice.beta = alpha_fit\n",
    "mstr.struc.lattice.gamma = alpha_fit\n",
    "\n",
    "mstr.makeAll()"
   ]
  },
  {
   "cell_type": "markdown",
   "metadata": {},
   "source": [
    "#### Extract the data, load it into a Profile object"
   ]
  },
  {
   "cell_type": "code",
   "execution_count": null,
   "metadata": {},
   "outputs": [],
   "source": [
    "### The getDiffData function reads in a PDFgui fit file and extracts the fit residual\n",
    "fit_file = 'files/MnOfit_PDFgui_NOMAD.fgr'\n",
    "r, gobs, gcalc, gdiff = read_fgr(fit_file) # this extracts the results of the atomic PDF fit done in PDFgui\n",
    "gmag = 1.0*gdiff # we set the experimental mPDF to the fit residual from the atomic PDF fit\n",
    "\n",
    "### Let's plot it just to make sure it looks right\n",
    "\n",
    "ax=plt.figure().add_subplot(111)\n",
    "ax.plot(r, gmag, )\n",
    "ax.set_xlabel(r\"r ($\\AA$)\")\n",
    "ax.set_ylabel(r\"G$_{mag}$ ($\\AA^{-2}$)\")\n",
    "\n",
    "plt.show()"
   ]
  },
  {
   "cell_type": "markdown",
   "metadata": {},
   "source": [
    "#### Now we start building the fit in the diffpy.srfit framework"
   ]
  },
  {
   "cell_type": "code",
   "execution_count": null,
   "metadata": {},
   "outputs": [],
   "source": [
    "### Create a profile object and load the data into it\n",
    "from diffpy.srfit.fitbase import Profile\n",
    "\n",
    "profile = Profile()\n",
    "profile.setObservedProfile(r, gmag)"
   ]
  },
  {
   "cell_type": "markdown",
   "metadata": {},
   "source": [
    "#### Make the MPDFcalculator"
   ]
  },
  {
   "cell_type": "code",
   "execution_count": null,
   "metadata": {},
   "outputs": [],
   "source": [
    "### Create the MPDFcalculator\n",
    "mc = MPDFcalculator(mstr)\n",
    "\n",
    "### Set appropriate rmin and rmax\n",
    "mc.rmin = profile.xobs.min()\n",
    "mc.rmax = profile.xobs.max()\n",
    "\n",
    "### Set the qdamp parameter determined from the experimental conditions\n",
    "mc.qdamp = 0.025"
   ]
  },
  {
   "cell_type": "markdown",
   "metadata": {},
   "source": [
    "#### Check the effect of the spin direction"
   ]
  },
  {
   "cell_type": "markdown",
   "metadata": {},
   "source": [
    "Except for a few very high-symmetry cases, the mPDF will show some dependence on the spin direction. Let's look into that here."
   ]
  },
  {
   "cell_type": "code",
   "execution_count": null,
   "metadata": {},
   "outputs": [],
   "source": [
    "### Check the current orientation of the spins.\n",
    "### Based on the mCIF file, they should be perpendicular to [111].\n",
    "print(mstr.spins[:5])\n",
    "\n",
    "### Let's visualize the spins. We'll select spins within 6 A of the origin.\n",
    "distances = np.apply_along_axis(np.linalg.norm, 1, mstr.atoms)\n",
    "mask = distances < 6\n",
    "Smag = np.linalg.norm(mstr.spins[0])\n",
    "mstr.visualize(mstr.atoms[mask], mstr.spins[mask]/Smag, showcrystalaxes=True) # divide by Smag to make the arrows a reasonable size\n",
    "\n",
    "### Now alculate the mPDF for the current spin orientations. \n",
    "r1, gcalc1 = ????"
   ]
  },
  {
   "cell_type": "markdown",
   "metadata": {},
   "source": [
    "Now we will change the orientation of the spins (while maintaining the same overall antiferromagnetic configuration) to see how this affects the mPDF. For magnetic structures with distinct sublattices (e.g. \"spin up\" and \"spin down\"), we can create numpy masks to select all spins from a given sublattice and change their orientations uniformly."
   ]
  },
  {
   "cell_type": "code",
   "execution_count": null,
   "metadata": {},
   "outputs": [],
   "source": [
    "sublattice1 = np.all(mstr.spins == mstr.spins[0], axis=1) # select all spins that are identical to the first spin\n",
    "sublattice2 = ~sublattice1 # select all other spins \n",
    "\n",
    "### Check that every spin in each sublattice is identical. What should the expressions below evaluate to?\n",
    "print(np.max(mstr.spins[sublattice1] - mstr.spins[sublattice1][0]))\n",
    "print(np.max(mstr.spins[sublattice2] - mstr.spins[sublattice2][0]))\n",
    "\n",
    "### Now define a new spin direction and set the sublattices accordingly.\n",
    "new_vec = np.array([0,0,1]) * Smag\n",
    "mstr.spins[sublattice1] = new_vec\n",
    "mstr.spins[sublattice2] = ????\n",
    "\n",
    "### Now calculate the mPDF with this new spin orientation.\n",
    "r2, gcalc2 = ????"
   ]
  },
  {
   "cell_type": "markdown",
   "metadata": {},
   "source": [
    "Define two more arbitrary spin directions for additional comparions. Be sure that the total length of the spin vector is Smag so that we can compare the mPDF patterns for easily. Then plot the 4 calculated mPDF patterns together to see how similar or different they are."
   ]
  },
  {
   "cell_type": "code",
   "execution_count": null,
   "metadata": {},
   "outputs": [],
   "source": [
    "new_vec = np.array([????]) / ???? * Smag\n",
    "mstr.spins[sublattice1] = ????\n",
    "mstr.spins[sublattice2] = ????\n",
    "r3, gcalc3 = ????\n",
    "\n",
    "new_vec = np.array([????]) / ???? * Smag\n",
    "mstr.spins[sublattice1] = ????\n",
    "mstr.spins[sublattice2] = ????\n",
    "r4, gcalc4 = ????\n",
    "\n",
    "fig = plt.figure()\n",
    "ax = fig.add_subplot(111)\n",
    "ax.set_xlabel('r ($\\AA$)')\n",
    "ax.set_ylabel('Gmag')\n",
    "\n",
    "ax.plot(r1, gcalc1)\n",
    "ax.plot(r2, gcalc2)\n",
    "ax.plot(r3, gcalc3)\n",
    "ax.plot(r4, gcalc4)\n",
    "\n",
    "plt.tight_layout()\n",
    "plt.show()"
   ]
  },
  {
   "cell_type": "markdown",
   "metadata": {},
   "source": [
    "Finally, let's define one more spin direction, this one randomly generated by constrained to be perpendicular to the [111] direction. We'll compare it to the original spin direction, which was also perpendicular to [111]. What does the result imply about the ability of 1D-mPDF to distinguish between different spin orientations within the plane perpendicular to [111]?"
   ]
  },
  {
   "cell_type": "code",
   "execution_count": null,
   "metadata": {},
   "outputs": [],
   "source": [
    "random = np.random.uniform()\n",
    "new_vec = np.array([random, random, -2*random]) # this ensures the vector is perpendicular to [111]\n",
    "new_vec = new_vec / np.linalg.norm(new_vec) * Smag\n",
    "mstr.spins[sublattice1] = new_vec\n",
    "mstr.spins[sublattice2] = -new_vec\n",
    "r5, gcalc5 = ????\n",
    "\n",
    "fig = plt.figure()\n",
    "ax = fig.add_subplot(111)\n",
    "ax.set_xlabel('r ($\\AA$)')\n",
    "ax.set_ylabel('Gmag')\n",
    "\n",
    "ax.plot(r1, gcalc1)\n",
    "ax.plot(r5, gcalc5)\n",
    "\n",
    "plt.tight_layout()\n",
    "plt.show()"
   ]
  },
  {
   "cell_type": "markdown",
   "metadata": {},
   "source": [
    "#### Continue with the fit\n",
    "We have now established that the mPDF is sensitive to the spin direction up to directions within the plane perpendicular to [111]. Let's proceed with the fit."
   ]
  },
  {
   "cell_type": "code",
   "execution_count": null,
   "metadata": {},
   "outputs": [],
   "source": [
    "### Make the FitContribution\n",
    "from diffpy.srfit.fitbase import FitContribution\n",
    "mfit = FitContribution('mfit')\n",
    "mfit.setProfile(profile)"
   ]
  },
  {
   "cell_type": "markdown",
   "metadata": {},
   "source": [
    "Now we define an mPDF function that includes parameters for the spin orientation. We will use the spherical coordinates theta (polar angle) and phi (azimuthal angle) to parameterize the spin direction. We will also add in the correlation length as a parameter (although we are in the long-range ordered state of MnO at 5 K, so this parameter is not actually necessary to include in this case)."
   ]
  },
  {
   "cell_type": "code",
   "execution_count": null,
   "metadata": {},
   "outputs": [],
   "source": [
    "### Define the function that will calculate the mPDF.\n",
    "def mpdf(parascale, ordscale, theta, phi, xi):\n",
    "    ### parascale sets the magnitude of the self-scattering peak below ~1 A\n",
    "    ### ordscale sets the magnitude of the mPDF\n",
    "    mc.paraScale, mc.ordScale = parascale, ordscale\n",
    "    mstr.corrLength = xi # set the correlation length to xi\n",
    "    sx = np.sin(theta) * np.cos(phi) # x, y, and z components of the spin\n",
    "    sy = np.sin(theta) * np.sin(phi)\n",
    "    sz = np.cos(theta)\n",
    "    new_vec = np.array([sx, sy, sz])\n",
    "    mstr.spins[sublattice1] = ????\n",
    "    mstr.spins[sublattice2] = ????\n",
    "    rcalc, gcalc, dcalc = mc.calc(both=True)\n",
    "    return ????\n",
    "\n",
    "### Now we load this function into our FitContribution\n",
    "mfit.registerFunction(mpdf)\n",
    "\n",
    "### Now we set the equation that the FitContribution will evaluate during the fit\n",
    "mfit.setEquation(????)"
   ]
  },
  {
   "cell_type": "code",
   "execution_count": null,
   "metadata": {},
   "outputs": [],
   "source": [
    "### Make the FitRecipe\n",
    "from diffpy.srfit.fitbase import FitRecipe\n",
    "recipe = FitRecipe()\n",
    "\n",
    "### Give the PDFContribution to the FitRecipe\n",
    "recipe.addContribution(mfit)\n",
    "\n",
    "### Add the mPDF variables\n",
    "recipe.addVar(mfit.parascale, 0.1) # 0.1 is the starting value\n",
    "recipe.addVar(mfit.ordscale, 0.1)\n",
    "recipe.addVar(mfit.theta, np.pi/2)\n",
    "restraint_theta = recipe.restrain(mfit.theta,lb=0,ub=np.pi,sig=0.0001) # restrict theta to [0, Pi]\n",
    "recipe.addVar(mfit.phi, 0)\n",
    "restraint_phi = recipe.restrain(mfit.phi,lb=-np.pi,ub=np.pi,sig=0.0001) # restrict phi to [-Pi, Pi]\n",
    "recipe.addVar(mfit.xi,100)"
   ]
  },
  {
   "cell_type": "markdown",
   "metadata": {},
   "source": [
    "#### Run the refinement"
   ]
  },
  {
   "cell_type": "code",
   "execution_count": null,
   "metadata": {},
   "outputs": [],
   "source": [
    "# Turn off printout of iteration number.\n",
    "recipe.clearFitHooks()\n",
    "\n",
    "print(\"Refine using scipy's least-squares optimizer:\")\n",
    "print(\"  variables:\", recipe.names)\n",
    "print(\"  initial values:\", recipe.values)\n",
    "\n",
    "from scipy.optimize import least_squares\n",
    "\n",
    "# This is where we run the least squares minimization\n",
    "optimized = least_squares(????, ????)\n",
    "print(\"  final values:\", recipe.values)\n",
    "\n",
    "### Plot the results\n",
    "fit = mfit.evaluateEquation(\"mpdf\")\n",
    "mdiff = gmag - fit\n",
    "\n",
    "ax=plt.figure().add_subplot(111)\n",
    "ax.plot(r, gmag, 'bo', label=\"mPDF data\", markerfacecolor='none', markeredgecolor='b')\n",
    "ax.plot(r, fit, 'r-', lw=2, label=\"mPDF fit\")\n",
    "ax.set_xlabel(r\"r ($\\AA$)\")\n",
    "ax.set_ylabel(r\"G$_{mag}$ ($\\AA^{-2}$)\")\n",
    "ax.set_xlim(xmax=mc.rmax)\n",
    "plt.legend(loc=1)\n",
    "\n",
    "plt.show()"
   ]
  },
  {
   "cell_type": "code",
   "execution_count": null,
   "metadata": {},
   "outputs": [],
   "source": [
    "### Plot the total PDF (atomic + magnetic) with the total fit\n",
    "\n",
    "offset1 = 1.2*gobs.min()\n",
    "offset2 = offset1 - 8*mdiff.max()\n",
    "\n",
    "fig = plt.figure()\n",
    "ax = fig.add_subplot(111)\n",
    "ax.plot(r,gobs,marker='o',mfc='none',mec='b',linestyle='none') ### total observed PDF pattern \n",
    "ax.plot(r,gcalc + fit,'r-',lw=2) ### calculated atomic PDF\n",
    "ax.plot(r,gmag+offset1,marker='o',mfc='none',mec='b',linestyle='none') ### residual from atomic PDF fit\n",
    "ax.plot(r,fit+offset1,'r-',lw=2) ### calculated mPDF\n",
    "ax.plot(r,np.zeros_like(r)+offset2,'k:')\n",
    "ax.plot(r,mdiff+offset2,'g-') ### overall fit residual after including atomic and magnetic PDFs\n",
    "ax.set_xlim(xmin=0,xmax=mc.rmax)\n",
    "ax.set_xlabel('r ($\\AA$)')\n",
    "ax.set_ylabel('G, d ($\\AA^{-2}$)')\n",
    "\n",
    "plt.show()"
   ]
  },
  {
   "cell_type": "code",
   "execution_count": null,
   "metadata": {},
   "outputs": [],
   "source": [
    "plt.close('all')"
   ]
  },
  {
   "cell_type": "markdown",
   "metadata": {},
   "source": [
    "Now you can print out the spins and see what direction the refined to. The published magnetic structure of MnO has the spins perpendicular to the [111] direction. Is that the case for your fit?"
   ]
  },
  {
   "cell_type": "code",
   "execution_count": null,
   "metadata": {},
   "outputs": [],
   "source": [
    "????"
   ]
  },
  {
   "cell_type": "markdown",
   "metadata": {},
   "source": [
    "Now we calculate the estimated uncertainties on the fitting parameters. This is determined from the least squares fitting routine. We use the function getStdUnc included in diffpy.mpdf to calculate this. Run the cell below to see what arguments the function needs. Note that our PDF data did not come with any uncertainties and we haven't applied any constraints to our variables."
   ]
  },
  {
   "cell_type": "code",
   "execution_count": null,
   "metadata": {},
   "outputs": [],
   "source": [
    "getStdUnc?"
   ]
  },
  {
   "cell_type": "code",
   "execution_count": null,
   "metadata": {},
   "outputs": [],
   "source": [
    "### Calculate and display the uncertainties for each parameter\n",
    "uncertainties = getStdUnc(????)[0] # only need the first item of the returned information\n",
    "for idx, item in enumerate(zip(recipe.names, recipe.values)):\n",
    "    print(item[0], item[1], uncertainties[idx])"
   ]
  },
  {
   "cell_type": "markdown",
   "metadata": {},
   "source": [
    "What do you notice about the size of the uncertainties for theta and phi? Why do you think this is the case?"
   ]
  },
  {
   "cell_type": "markdown",
   "metadata": {},
   "source": [
    "We can also calculate the ordered moment with its propagated uncertainty. To do so, we again use the function calculate_ordered_moment, but now we pass the optional keywords to enable the error estimation."
   ]
  },
  {
   "cell_type": "code",
   "execution_count": null,
   "metadata": {},
   "outputs": [],
   "source": [
    "nucScale = 0.05277\n",
    "unc_nuc = 0.001 # estimated uncertainty of the nuclear scale factor\n",
    "unc_ord = ????\n",
    "unc_xi = ????\n",
    "calculate_ordered_moment(mc, nucScale, returnUncertainty=True, inputUnc=[unc_ord, unc_nuc, unc_xi])"
   ]
  },
  {
   "cell_type": "markdown",
   "metadata": {},
   "source": [
    "### Alternative method that does not use diffpy.srfit"
   ]
  },
  {
   "cell_type": "markdown",
   "metadata": {},
   "source": [
    "diffpy.srfit provides a flexible framework for doing mPDF fits, but you are not required to use it. Below is an example of a fit that is done without diffpy.srfit. Note that we create the magnetic structure by setting the propagation vectors and basis vectors in this example, though we could just as well have used the mCIF approach."
   ]
  },
  {
   "cell_type": "code",
   "execution_count": null,
   "metadata": {},
   "outputs": [],
   "source": [
    "### Get the data\n",
    "fit_file = 'files/MnOfit_PDFgui_NOMAD.fgr'\n",
    "r, gobs, gcalc, gdiff = read_fgr(fit_file) # this extracts the results of the atomic PDF fit done in PDFgui\n",
    "gmag = 1.0*gdiff # we set the experimental mPDF to the fit residual from the atomic PDF fit\n",
    "\n",
    "\n",
    "### Make the magnetic structure\n",
    "struc = loadStructure('files/MnO_struc_NOMAD.stru')\n",
    "\n",
    "svec = np.array([0,0,1]) # start with an incorrect spin orientation to ensure we converge to the right direction\n",
    "mspec = MagSpecies(struc, strucIdxs=[0,1,2,3], ffparamkey='Mn2', rmaxAtoms=r.max(),\n",
    "                 basisvecs=svec, kvecs=np.array([0.5,0.5,0.5]), label='Mn')\n",
    "\n",
    "mstr=MagStructure()\n",
    "mstr.loadSpecies(mspec)\n",
    "mstr.makeAll()\n",
    "\n",
    "\n",
    "### Make the calculator\n",
    "mc = MPDFcalculator(mstr)\n",
    "mc.rmin = r.min()\n",
    "mc.rmax = r.max()\n",
    "mc.qdamp = 0.025"
   ]
  },
  {
   "cell_type": "markdown",
   "metadata": {},
   "source": [
    "Now we define a residual function that allows the spin direction to vary. We'll leave the correlation length out of this fit."
   ]
  },
  {
   "cell_type": "code",
   "execution_count": null,
   "metadata": {},
   "outputs": [],
   "source": [
    "def residual(p,ydata):\n",
    "    oscale, pscale, th, phi = p\n",
    "    sx = np.sin(th)*np.cos(phi)\n",
    "    sy = np.sin(th)*np.sin(phi)\n",
    "    sz = np.cos(th)\n",
    "    newsvec = np.array([sx, sy, sz])\n",
    "    mspec.basisvecs = newsvec\n",
    "    mstr.makeSpins()\n",
    "    mc.ordScale = oscale\n",
    "    mc.paraScale = pscale\n",
    "    return ydata - mc.calc(both=True)[2]"
   ]
  },
  {
   "cell_type": "markdown",
   "metadata": {},
   "source": [
    "Now we run the least-squares routine and plot the result."
   ]
  },
  {
   "cell_type": "code",
   "execution_count": null,
   "metadata": {},
   "outputs": [],
   "source": [
    "p0 = [0.1,0.1,np.arccos(np.random.uniform(-1,1)),np.random.uniform(-np.pi,np.pi)]\n",
    "optimized = least_squares(residual,p0,bounds=[[0,0,0,-np.pi],[10,10,np.pi,np.pi]], args=(gmag,))\n",
    "fit = mc.calc(both=True)[2]\n",
    "\n",
    "fig=plt.figure()\n",
    "ax=fig.add_subplot(111)\n",
    "ax.plot(r,gmag,'bo',linestyle='none')\n",
    "ax.plot(r,fit,'r-',lw=2)\n",
    "ax.set_xlabel('r ($\\AA$)')\n",
    "ax.set_ylabel('D($\\AA^{-2}$)')\n",
    "\n",
    "plt.show()    "
   ]
  },
  {
   "cell_type": "code",
   "execution_count": null,
   "metadata": {},
   "outputs": [],
   "source": [
    "plt.close('all')"
   ]
  }
 ],
 "metadata": {
  "kernelspec": {
   "display_name": "Python 3 (ipykernel)",
   "language": "python",
   "name": "python3"
  },
  "language_info": {
   "codemirror_mode": {
    "name": "ipython",
    "version": 3
   },
   "file_extension": ".py",
   "mimetype": "text/x-python",
   "name": "python",
   "nbconvert_exporter": "python",
   "pygments_lexer": "ipython3",
   "version": "3.7.13"
  }
 },
 "nbformat": 4,
 "nbformat_minor": 1
}
