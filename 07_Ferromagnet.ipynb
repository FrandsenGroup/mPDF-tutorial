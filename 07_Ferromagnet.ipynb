{
 "cells": [
  {
   "cell_type": "markdown",
   "metadata": {},
   "source": [
    "# Module 7: Calculating mPDF patterns from ferromagnets and ferrimagnets"
   ]
  },
  {
   "cell_type": "markdown",
   "metadata": {},
   "source": [
    "This example demonstrates how to calculate the mPDF for a magnetic structure with a net magnetic moment, such as a ferromagnet or ferrimagnet. It is very similar to calculating the mPDF for an antiferromagnet, but there is one quick extra step that needs to be taken."
   ]
  },
  {
   "cell_type": "markdown",
   "metadata": {},
   "source": [
    "### Import necessary modules"
   ]
  },
  {
   "cell_type": "code",
   "execution_count": null,
   "metadata": {},
   "outputs": [],
   "source": [
    "### Import the necessary libraries\n",
    "import numpy as np\n",
    "import matplotlib.pyplot as plt\n",
    "\n",
    "from diffpy.mpdf import *\n",
    "from diffpy.structure import loadStructure\n",
    "\n",
    "### Set all plots to be inline\n",
    "%matplotlib notebook"
   ]
  },
  {
   "cell_type": "markdown",
   "metadata": {},
   "source": [
    "## Example: Ferromagnetic MnSb"
   ]
  },
  {
   "cell_type": "markdown",
   "metadata": {},
   "source": [
    "Like usual, we start by loading in a CIF file."
   ]
  },
  {
   "cell_type": "code",
   "execution_count": null,
   "metadata": {},
   "outputs": [],
   "source": [
    "cif = \"files/MnSb.cif\"\n",
    "struc = loadStructure(cif)\n",
    "print(struc)"
   ]
  },
  {
   "cell_type": "markdown",
   "metadata": {},
   "source": [
    "Now we create a MagSpecies object and set the propagation vector to (0, 0, 0), corresponding to a ferromagnetic structure. Then we'll load it into a MagStructure object and run makeAll() to generate the atoms and spins."
   ]
  },
  {
   "cell_type": "code",
   "execution_count": null,
   "metadata": {},
   "outputs": [],
   "source": [
    "mspec = MagSpecies(struc, strucIdxs=[0,1], ffparamkey='Mn3', rmaxAtoms=40,\n",
    "                   basisvecs=np.array([0,0,1]), kvecs=np.array([0,0,0]))\n",
    "\n",
    "mstruc = MagStructure(rmaxAtoms=40)\n",
    "mstruc.loadSpecies(mspec)\n",
    "mstruc.makeAll()\n",
    "print(mstruc.spins[:10]) # verify the ferromagnetic arrangement"
   ]
  },
  {
   "cell_type": "markdown",
   "metadata": {},
   "source": [
    "Here is where things get a little different for materials with a net magnetic moment: the calculated mPDF should include a linear term proportional to the number density of magnetic moments and the average net moment per magnetic ion. By default, these quantities (MagStructure.rho0 and MagStructure.netMag) are set to 0 in a MagStructure object, so if we calculate the mPDF without first setting these values, then we will have an incorrect calculation. Let's take a look at that:"
   ]
  },
  {
   "cell_type": "code",
   "execution_count": null,
   "metadata": {},
   "outputs": [],
   "source": [
    "mc = MPDFcalculator(mstruc, rmax=40)\n",
    "mc.plot(both=True)"
   ]
  },
  {
   "cell_type": "markdown",
   "metadata": {},
   "source": [
    "You'll notice that peak overlap causes the mPDF to increase with r. This is because we are not correctly including the linear term with the default rho0 and netMag values. Fortunately, we can set those values automatically using the methods shown below, or we could also set them manually if necessary."
   ]
  },
  {
   "cell_type": "code",
   "execution_count": null,
   "metadata": {},
   "outputs": [],
   "source": [
    "# set the rho0 attribute\n",
    "print('Initial number density: ', mstruc.rho0)\n",
    "mstruc.calcAtomicDensity()\n",
    "print('New number density: ', mstruc.rho0)\n",
    "\n",
    "\n",
    "# set the netMag attribute\n",
    "print('Initial net magnetic moment: ', mstruc.netMag)\n",
    "mstruc.calcNetMag() # consult documentation for different options for this function\n",
    "print('New net magnetic moment: ', mstruc.netMag)\n",
    "# Note that the net moment is 2 muB, since our spin vectors are of unit magnitude\n",
    "# and we are multiplying by a Lande g factor of 2, as is appropriate for magnetic\n",
    "# moments with no orbital component."
   ]
  },
  {
   "cell_type": "markdown",
   "metadata": {},
   "source": [
    "Now the mPDF calculation will work correctly. Note that it now oscillates around zero, as it should."
   ]
  },
  {
   "cell_type": "code",
   "execution_count": null,
   "metadata": {},
   "outputs": [],
   "source": [
    "mc.plot(both=True)"
   ]
  },
  {
   "cell_type": "code",
   "execution_count": null,
   "metadata": {},
   "outputs": [],
   "source": [
    "plt.close('all')"
   ]
  },
  {
   "cell_type": "markdown",
   "metadata": {},
   "source": [
    "Note that it also works in the case of a finite correlation length:"
   ]
  },
  {
   "cell_type": "code",
   "execution_count": null,
   "metadata": {},
   "outputs": [],
   "source": [
    "mstruc.corrLength = 15.0\n",
    "\n",
    "# incorrect calculation for comparison\n",
    "mstruc.rho0 = 0\n",
    "mstruc.netMag = 0\n",
    "mc.plot(both=True)\n",
    "\n",
    "# correct calculation\n",
    "mstruc.calcAtomicDensity()\n",
    "mstruc.calcNetMag()\n",
    "mc.plot(both=True)"
   ]
  },
  {
   "cell_type": "code",
   "execution_count": null,
   "metadata": {},
   "outputs": [],
   "source": [
    "plt.close('all')"
   ]
  },
  {
   "cell_type": "markdown",
   "metadata": {},
   "source": [
    "## Example: Ferrimagnet"
   ]
  },
  {
   "cell_type": "markdown",
   "metadata": {},
   "source": [
    "Now let's pretend that MnSb is a ferrimagnet, with one of the Mn sites have a smaller magnetic moment and aligned opposite the other. Because the moments do not cancel perfectly, this structure still has a net magnetic moment, so we need to remember to set rho0 and netMag correctly."
   ]
  },
  {
   "cell_type": "code",
   "execution_count": null,
   "metadata": {},
   "outputs": [],
   "source": [
    "cif = \"files/MnSb.cif\"\n",
    "struc = loadStructure(cif)\n",
    "print(struc)\n",
    "\n",
    "# We need two different MagSpecies for this ferrimagnetic structure.\n",
    "svec1 = np.array([0,0,1])\n",
    "svec2 = np.array([0,0,-0.5])\n",
    "mspec1 = MagSpecies(struc, strucIdxs=[0], ffparamkey='Mn3', rmaxAtoms=40,\n",
    "                   basisvecs=svec1, kvecs=np.array([0,0,0]))\n",
    "\n",
    "mspec2 = MagSpecies(struc, strucIdxs=[1], ffparamkey='Mn3', rmaxAtoms=40,\n",
    "                   basisvecs=svec2, kvecs=np.array([0,0,0]))\n",
    "\n",
    "\n",
    "mstruc = MagStructure(rmaxAtoms=40)\n",
    "mstruc.loadSpecies(mspec1)\n",
    "mstruc.loadSpecies(mspec2)\n",
    "mstruc.makeAll()\n",
    "\n",
    "# Let's check that it looks right.\n",
    "visMask = np.apply_along_axis(np.linalg.norm, 1, mstruc.atoms - mstruc.atoms[0]) < 6\n",
    "visAtoms = mstruc.atoms[visMask]\n",
    "visSpins = mstruc.spins[visMask]\n",
    "mstruc.visualize(visAtoms, visSpins)"
   ]
  },
  {
   "cell_type": "markdown",
   "metadata": {},
   "source": [
    "Now we set rho0 and netMag. Just for practice, can you predict what netMag should be? It's the net magnetic moment in Bohr magnetons per magnetic atom, so you can find the average spin vector and multiply that by the g factor (2 unless you have set it to something different)."
   ]
  },
  {
   "cell_type": "code",
   "execution_count": null,
   "metadata": {},
   "outputs": [],
   "source": [
    "mstruc.calcAtomicDensity()\n",
    "mstruc.netMag = ??? # make your prediction; use the lines below if you want to check your work\n",
    "\n",
    "# mstruc.calcNetMag()\n",
    "# print(mstruc.netMag)\n",
    "\n",
    "mc = MPDFcalculator(mstruc, rmax=40)\n",
    "mc.plot(both=True)"
   ]
  },
  {
   "cell_type": "code",
   "execution_count": null,
   "metadata": {},
   "outputs": [],
   "source": [
    "plt.close('all')"
   ]
  },
  {
   "cell_type": "markdown",
   "metadata": {},
   "source": [
    "## If you are feeling lazy: automatic linear correction"
   ]
  },
  {
   "cell_type": "markdown",
   "metadata": {},
   "source": [
    "If, for some reason, you don't want to or can't set the rho0 and netMag attributes, you can just let the program estimate the best linear contribution that keeps the mPDF oscillating around 0. You do this by setting the linearTermMethod argument to 'autoslope' in MPDFcalculator.calc() and/or MPDFcalculator.plot(), as shown below. This is an accurate and reliable option in the vast majority of cases."
   ]
  },
  {
   "cell_type": "code",
   "execution_count": null,
   "metadata": {},
   "outputs": [],
   "source": [
    "cif = \"files/MnSb.cif\"\n",
    "struc = loadStructure(cif)\n",
    "print(struc)\n",
    "\n",
    "mspec = MagSpecies(struc, strucIdxs=[0,1], ffparamkey='Mn3', rmaxAtoms=40,\n",
    "                   basisvecs=np.array([0,0,1]), kvecs=np.array([0,0,0]))\n",
    "\n",
    "mstruc = MagStructure(rmaxAtoms=40)\n",
    "mstruc.loadSpecies(mspec)\n",
    "mstruc.makeAll()\n",
    "\n",
    "mc = MPDFcalculator(mstruc, rmax=40)\n",
    "# incorrect calculation\n",
    "mc.plot(both=True)\n",
    "# corrected calculation\n",
    "mc.plot(both=True, linearTermMethod='autoslope')"
   ]
  },
  {
   "cell_type": "code",
   "execution_count": null,
   "metadata": {},
   "outputs": [],
   "source": [
    "plt.close('all')"
   ]
  },
  {
   "cell_type": "markdown",
   "metadata": {},
   "source": [
    "## Esoteric example: Anisotropic correlation lengths in a ferro/ferrimagnet"
   ]
  },
  {
   "cell_type": "markdown",
   "metadata": {},
   "source": [
    "If you encounter a situation where a ferro or ferrimagnet has an anisotropic correlation length (e.g. a longer correlation length in certain directions than in other directions), then it can be a little bit tricky to get the linear component of the mPDF just right. Currently, the best practice is to use the 'fullauto' option for the linearTermMethod argument of MPDFcalculator.calc(). This is demonstrated below."
   ]
  },
  {
   "cell_type": "code",
   "execution_count": null,
   "metadata": {},
   "outputs": [],
   "source": [
    "cif = \"MnSb.cif\"\n",
    "struc = loadStructure(cif)\n",
    "print(struc)\n",
    "\n",
    "mspec = MagSpecies(struc, strucIdxs=[0,1], ffparamkey='Mn3', rmaxAtoms=40,\n",
    "                   basisvecs=np.array([0,0,1]), kvecs=np.array([0,0,0]))\n",
    "\n",
    "mstruc = MagStructure(rmaxAtoms=40)\n",
    "mstruc.loadSpecies(mspec)\n",
    "mstruc.makeAll()"
   ]
  },
  {
   "cell_type": "markdown",
   "metadata": {},
   "source": [
    "Now we impose an anisotropic correlation length using the MagStructure.dampingMat attribute. This is a 3x3 symmetric matrix for which the eigenvalues are equal to the inverse squared correlation length along the direction given by the corresponding eigenvector. See the appendix of https://doi.org/10.1107/S1600576722007257 for more details. Note also that we pass a non-default value for the correlationMethod argument of MPDFcalculator.calc() (see documentation for more details)."
   ]
  },
  {
   "cell_type": "code",
   "execution_count": null,
   "metadata": {},
   "outputs": [],
   "source": [
    "xi_c = 20.0 # correlation length along c axis\n",
    "xi_ab = 5.0 # correlation length in the ab plane\n",
    "mstruc.dampingMat = np.array([[1/xi_ab**2, 0, 0],[0, 1/xi_ab**2, 0],[0, 0, 1/xi_c**2]])\n",
    "\n",
    "mc = MPDFcalculator(mstruc, rmax=40)\n",
    "# incorrect calculation\n",
    "mc.plot(both=True, correlationMethod='full')\n",
    "# corrected calculation\n",
    "mc.plot(both=True, correlationMethod='full', linearTermMethod='fullauto')"
   ]
  },
  {
   "cell_type": "code",
   "execution_count": null,
   "metadata": {},
   "outputs": [],
   "source": [
    "plt.close('all')"
   ]
  }
 ],
 "metadata": {
  "kernelspec": {
   "display_name": "Python 3 (ipykernel)",
   "language": "python",
   "name": "python3"
  },
  "language_info": {
   "codemirror_mode": {
    "name": "ipython",
    "version": 3
   },
   "file_extension": ".py",
   "mimetype": "text/x-python",
   "name": "python",
   "nbconvert_exporter": "python",
   "pygments_lexer": "ipython3",
   "version": "3.7.13"
  }
 },
 "nbformat": 4,
 "nbformat_minor": 1
}
