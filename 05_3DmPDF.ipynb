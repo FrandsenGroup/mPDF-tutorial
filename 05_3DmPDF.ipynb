{
 "cells": [
  {
   "cell_type": "markdown",
   "id": "90dd5bc7",
   "metadata": {},
   "source": [
    "# Module 5: Calculating and visualizing 3D-mPDF patterns"
   ]
  },
  {
   "cell_type": "markdown",
   "id": "b1baf475",
   "metadata": {},
   "source": [
    "3D-mPDF calculations (see https://doi.org/10.1107/S2052252518006590 and https://doi.org/10.1103/PhysRevB.100.144404) can be performed in diffpy.mpdf using the MPDF3Dcalculator class. Similar to the standard MPDFcalculator class, a MagStructure object is provided to the calculator, from which the positions and magnetic moments are extracted. Here, we use antiferromagnetic MnTe as an example. It is known to have an anisotropic correlation length in the correlated paramagnet regime above the ordering temperature, with a significantly longer correlation length along the c-axis than within the ab-plane (see https://doi.org/10.1016/j.matt.2022.03.011 for more details). This anisotropy makes it a useful example case for 3D-mPDF."
   ]
  },
  {
   "cell_type": "code",
   "execution_count": null,
   "id": "ac58c87b",
   "metadata": {},
   "outputs": [],
   "source": [
    "import diffpy.mpdf as mpdf\n",
    "import numpy as np\n",
    "import matplotlib.pyplot as plt\n",
    "\n",
    "%matplotlib notebook"
   ]
  },
  {
   "cell_type": "markdown",
   "id": "7474e592",
   "metadata": {},
   "source": [
    "### Familiarize yourself with the magnetic structure of MnTe.\n",
    "Go to MAGNDATA and look up MnTe. Use the interactive visualizer to get a feeling for the magnetic structure of MnTe. How would you describe it in words?"
   ]
  },
  {
   "cell_type": "markdown",
   "id": "28ba905e",
   "metadata": {},
   "source": [
    "### Make the MagStructure"
   ]
  },
  {
   "cell_type": "markdown",
   "id": "485c76e1",
   "metadata": {},
   "source": [
    "Load in the MnTe mCIF file to create a MagStructure instance with rmaxAtoms set to 30. Generate the spin positions and orientations."
   ]
  },
  {
   "cell_type": "code",
   "execution_count": null,
   "id": "a5f7962b",
   "metadata": {},
   "outputs": [],
   "source": []
  },
  {
   "cell_type": "markdown",
   "id": "b74ce9aa",
   "metadata": {},
   "source": [
    "Create an anisotropic correlation length using the dampingMat attribute. This is a 3x3 symmetric matrix for which the eigenvalues are equal to the inverse squared correlation length along the direction given by the corresponding eigenvector. See the appendix of https://doi.org/10.1107/S1600576722007257 for more details. "
   ]
  },
  {
   "cell_type": "code",
   "execution_count": null,
   "id": "3091fe83",
   "metadata": {},
   "outputs": [],
   "source": [
    "xi_ab = 4 # correlation length in the ab plane\n",
    "xi_c = 8 # correlation length along c\n",
    "mag.dampingMat = np.array([[1/xi_ab**2, 0, 0],\n",
    "                           [0, 1/xi_ab**2, 0],\n",
    "                           [0, 0, 1/xi_c**2]])"
   ]
  },
  {
   "cell_type": "markdown",
   "id": "746c5520",
   "metadata": {},
   "source": [
    "### Make the MPDF3Dcalculator"
   ]
  },
  {
   "cell_type": "markdown",
   "id": "d09c4441",
   "metadata": {},
   "source": [
    "Now we create an instance of the MPDF3Dcalculator class and feed it our MagStructure object."
   ]
  },
  {
   "cell_type": "code",
   "execution_count": null,
   "id": "627665c2",
   "metadata": {},
   "outputs": [],
   "source": [
    "mc3d = mpdf.MPDF3Dcalculator(magstruc=mag)\n",
    "mc3d.gaussPeakWidth = 0.7 # sets the broadening of the peaks due to the spatial extent of the wavefunction"
   ]
  },
  {
   "cell_type": "markdown",
   "id": "c2b4221b",
   "metadata": {},
   "source": [
    "Here we are using a three-dimensional Gaussian to represent the spatial extent of wavefunction giving rise to the magnetic moment. The gaussPeakWidth attribute controls the broadening of the peaks and has a default value of 0.5. "
   ]
  },
  {
   "cell_type": "markdown",
   "id": "3e88659e",
   "metadata": {},
   "source": [
    "## Perform the calculation"
   ]
  },
  {
   "cell_type": "markdown",
   "id": "c7c1439c",
   "metadata": {},
   "source": [
    "The MPDF3Dcalculator.calc() method calls the primary computation method of the class. An optional argument of 'dr' can be used which will adjust the spatial resolution of the magnetic structure representation and the final mpdf. A larger dr value will decrease computaional costs but lower the resolution of the final mpdf calculated. As a note, because this computation is done in 3D, computation time and memory scale by dr<sup>3</sup>."
   ]
  },
  {
   "cell_type": "code",
   "execution_count": null,
   "id": "bbb67b07",
   "metadata": {},
   "outputs": [],
   "source": [
    "mc3d.calc(dr=0.4) # dr=0.4 is a reasonable value"
   ]
  },
  {
   "cell_type": "markdown",
   "id": "6be508d4",
   "metadata": {},
   "source": [
    "## Extract and visualize the results"
   ]
  },
  {
   "cell_type": "markdown",
   "id": "b98853af",
   "metadata": {},
   "source": [
    "The MPDF3Dcalculator.rgrid() method returns the real space grid used to compute the 3D-mPDF, while the MPDF3Dcalculator.mpdf attribute stores the calculated 3D-mPDF. Note that this is not defined until the computation is run."
   ]
  },
  {
   "cell_type": "code",
   "execution_count": null,
   "id": "2b05343b",
   "metadata": {},
   "outputs": [],
   "source": [
    "x,y,z = mc3d.rgrid()\n",
    "mpdf3D = mc3d.mpdf"
   ]
  },
  {
   "cell_type": "markdown",
   "id": "5261b83f",
   "metadata": {},
   "source": [
    "Now we visualize the results using the diffpy.mpdf.visualize3D module. This module generates a user-defined 2D slice of a 3D data set. We start by making an instance of the Visualizer class, which takes as input the 3D data set and the Cartesian x, y, and z arrays over which the data set is defined."
   ]
  },
  {
   "cell_type": "code",
   "execution_count": null,
   "id": "a903abf7",
   "metadata": {},
   "outputs": [],
   "source": [
    "import diffpy.mpdf.visualize3D as v3d\n",
    "vis = v3d.Visualizer(mpdf3D, x, y, z)"
   ]
  },
  {
   "cell_type": "markdown",
   "id": "fec2801e",
   "metadata": {},
   "source": [
    "Now we define the 2D slice we want to extract. Two methods can be used to accomplish this:\n",
    " - Method 1: Define a center point and a normal vector. The 2D slice will consist of the plane perpendicular to the normal vector centered on the given center point.\n",
    " - Method 2: Define three non-collinear points. The 2D slice will consist of the plane containing these three points, centered on the centroid of the three points.\n",
    " \n",
    "We will use Method 1 first."
   ]
  },
  {
   "cell_type": "code",
   "execution_count": null,
   "id": "f927688c",
   "metadata": {},
   "outputs": [],
   "source": [
    "len_horizontal = 50 # horizontal extent of the slice\n",
    "len_vertical = 50 # vertical extent of the slice\n",
    "stepsize = 0.2 # step size for the interpolation used to make the slice\n",
    "\n",
    "# Let's first look in the ab plane, i.e. perpendicular to [0,0,1].\n",
    "center = np.array([0,0,0])\n",
    "normal = np.array([0,0,1])\n",
    "vis.make_slice(len_horizontal, len_vertical, stepsize,\n",
    "               use_normal = True, cen_pt=center, normal=normal)\n",
    "\n",
    "# Now we just call the visualize() method\n",
    "vis.visualize()"
   ]
  },
  {
   "cell_type": "markdown",
   "id": "3b9ded1a",
   "metadata": {},
   "source": [
    "Explain how the figure above relates to the magnetic structure."
   ]
  },
  {
   "cell_type": "markdown",
   "id": "124fff0d",
   "metadata": {},
   "source": [
    "Now let's look in the bc plane."
   ]
  },
  {
   "cell_type": "code",
   "execution_count": null,
   "id": "ff73f2ee",
   "metadata": {},
   "outputs": [],
   "source": [
    "center = np.array([0,0,0])\n",
    "normal = np.array([????]) # looking in the bc plane\n",
    "vis.make_slice(len_horizontal, len_vertical, stepsize,\n",
    "               use_normal = True, cen_pt=center, normal=normal)\n",
    "\n",
    "# Now we just call the visualize() method\n",
    "vis.visualize()"
   ]
  },
  {
   "cell_type": "markdown",
   "id": "c1db82d8",
   "metadata": {},
   "source": [
    "Interpret the figure in terms of the magnetic structure. How does the anisotropic correlation length that you defined manifest in the figure?"
   ]
  },
  {
   "cell_type": "markdown",
   "id": "07723448",
   "metadata": {},
   "source": [
    "As a side note, you can also return the data slice for further manipulation or visualization by setting the returnSlice attribute to True:"
   ]
  },
  {
   "cell_type": "code",
   "execution_count": null,
   "id": "66342fcd",
   "metadata": {},
   "outputs": [],
   "source": [
    "data_slice, xx, yy = vis.make_slice(len_horizontal, len_vertical, stepsize,\n",
    "                                    use_normal = True, cen_pt=center, normal=normal,\n",
    "                                    returnSlice=True)\n",
    "print(data_slice.shape, xx.shape, yy.shape)"
   ]
  },
  {
   "cell_type": "markdown",
   "id": "8866655f",
   "metadata": {},
   "source": [
    "For completeness, let's now use Method 2 to generate a slice for visualization. We will choose three corners of the unit cell as our three points to define the plane. Note that in this case, this choice of points does not yield a particularly useful plane to look at, but it still demonstrates the functionality."
   ]
  },
  {
   "cell_type": "code",
   "execution_count": null,
   "id": "434f18cd",
   "metadata": {},
   "outputs": [],
   "source": [
    "lat = mag.struc.lattice\n",
    "avec, bvec, cvec = lat.stdbase\n",
    "vis.make_slice(len_horizontal, len_vertical, stepsize,\n",
    "               use_normal=False,\n",
    "               p1=avec, p2=bvec, p3=cvec)\n",
    "\n",
    "# Now we just call the visualize() method\n",
    "vis.visualize()"
   ]
  },
  {
   "cell_type": "code",
   "execution_count": null,
   "id": "9fc90aa5",
   "metadata": {},
   "outputs": [],
   "source": [
    "plt.close('all')"
   ]
  },
  {
   "cell_type": "markdown",
   "id": "a3d9eadd",
   "metadata": {},
   "source": [
    "### Exercises\n",
    " - Use Method 2 to recreate the view of the ab plane that we generated from Method 1.\n",
    " - Play around with the correlation lengths and gaussian peak width and observe the effect on the 3D-mPDF."
   ]
  }
 ],
 "metadata": {
  "kernelspec": {
   "display_name": "Python 3 (ipykernel)",
   "language": "python",
   "name": "python3"
  },
  "language_info": {
   "codemirror_mode": {
    "name": "ipython",
    "version": 3
   },
   "file_extension": ".py",
   "mimetype": "text/x-python",
   "name": "python",
   "nbconvert_exporter": "python",
   "pygments_lexer": "ipython3",
   "version": "3.7.13"
  }
 },
 "nbformat": 4,
 "nbformat_minor": 5
}
