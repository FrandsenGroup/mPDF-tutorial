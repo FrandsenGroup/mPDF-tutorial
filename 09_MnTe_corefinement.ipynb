{
 "cells": [
  {
   "cell_type": "markdown",
   "metadata": {},
   "source": [
    "# Module 9: Unguided corefinement for MnTe"
   ]
  },
  {
   "cell_type": "markdown",
   "metadata": {},
   "source": [
    "MnTe is an antiferromagnet with a Neel temperature of 307 K. A file containing neutron PDF data collected on the NOMAD instrument at 320 K is found in the files directory (NOM_MnTe_320K.gr), along with a CIF file for the atomic structure of MnTe. Your task is to perform a corefinement (either simultaneous or iterative) of the atomic and magnetic structure of MnTe at 320 K (MnTe_hex.cif). You may want to start by looking up MnTe on MAGNDATA to help you think about how to define the magnetic structure. Keep in mind that this measurement was done in the paramagnetic state, so the magnetic correlation length will be finite."
   ]
  },
  {
   "cell_type": "code",
   "execution_count": null,
   "metadata": {},
   "outputs": [],
   "source": []
  }
 ],
 "metadata": {
  "kernelspec": {
   "display_name": "Python 3 (ipykernel)",
   "language": "python",
   "name": "python3"
  },
  "language_info": {
   "codemirror_mode": {
    "name": "ipython",
    "version": 3
   },
   "file_extension": ".py",
   "mimetype": "text/x-python",
   "name": "python",
   "nbconvert_exporter": "python",
   "pygments_lexer": "ipython3",
   "version": "3.7.13"
  }
 },
 "nbformat": 4,
 "nbformat_minor": 1
}
