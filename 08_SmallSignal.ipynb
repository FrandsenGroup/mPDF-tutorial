{
 "cells": [
  {
   "cell_type": "markdown",
   "metadata": {},
   "source": [
    "# Module 8: Working with a small signal"
   ]
  },
  {
   "cell_type": "markdown",
   "metadata": {},
   "source": [
    "If you are collecting atomic and magnetic PDF simultaneously, the mPDF signal is often much smaller than the atomic PDF, sometimes even on the level of the noise in the atomic PDF fit. One way to deal with this is to collect data at a higher temperature where the mPDF signal is absent (e.g. well above the magnetic ordering temperature), do a regular atomic PDF fit to the high-temperature data, and subtract that fit residual from the fit residual you get when performing the atomic PDF fit to the low-temperature data, where the mPDF signal is small but nonzero. This allows you to subtract out temperature-independent (and therefore presumably nonmagnetic) noise or errors in your data, providing a cleaner mPDF signal to work with. We will work through an example of this approach in this module. \n",
    "\n",
    "The material we will use for our example is the multiferroic system Sr0.55Ba0.45MnO3, which undergoes an antiferromagnetic transition around 200 K. Mn is the only magnetic atom. We collected neutron PDF data on the NOMAD beamline at several temperature between 90 K and 500 K. We will do an mPDF fit to the 90 K data, using the data collected at 360 K as our high-temperature reference measurement for the temperature subtraction. The atomic PDF fits have already been done in PDFgui.\n",
    "\n",
    "The following files will be relevant for this module:\n",
    " - SBMOfit_PDFgui_90K.fgr: best-fit atomic PDF at 90 K\n",
    " - SBMOfit_PDFgui_360K.fgr: best-fit atomic PDF at 360 K\n",
    " - struc_SBMO.stru: refined structure produced by PDFgui"
   ]
  },
  {
   "cell_type": "code",
   "execution_count": null,
   "metadata": {},
   "outputs": [],
   "source": [
    "import numpy as np\n",
    "import matplotlib.pyplot as plt\n",
    "from scipy.optimize import least_squares\n",
    "\n",
    "from diffpy.mpdf import *\n",
    "from diffpy.structure import loadStructure\n",
    "\n",
    "%matplotlib notebook \n",
    "# run this cell twice"
   ]
  },
  {
   "cell_type": "markdown",
   "metadata": {},
   "source": [
    "### Inspect the structure and determine the magnetic propagation/basis vectors\n",
    "\n",
    "Load in the refined structure file using loadStructure(). Print out the structure to determine which index corresponds to the magnetic atom. Convince yourself that the Mn atoms sit on the vertices of a simple pseudocubic lattice (pseudocubic because there is a very slight tetragonal distortion)."
   ]
  },
  {
   "cell_type": "code",
   "execution_count": null,
   "metadata": {},
   "outputs": [],
   "source": [
    "struc = loadStructure('files/struc_SBMO.stru')\n",
    "print(struc)"
   ]
  },
  {
   "cell_type": "markdown",
   "metadata": {},
   "source": [
    "The magnetic order is known to be G-type, which means each Mn spin is antiferromagnetically coupled with its 6 nearest neighbors. Further more, the spins are known to be oriented up and down along the c axis. Use this information to determine the propagation vector and basis vector to describe this magnetic structure."
   ]
  },
  {
   "cell_type": "markdown",
   "metadata": {},
   "source": [
    "### Calculate and plot the expected mPDF pattern so we know what to look for"
   ]
  },
  {
   "cell_type": "code",
   "execution_count": null,
   "metadata": {},
   "outputs": [],
   "source": [
    "### Make the MagSpecies and MagStructure\n",
    "\n",
    "svec = ???? # basis vector\n",
    "kvec = ???? # propagation vector\n",
    "mspec = MagSpecies(struc=struc,strucIdxs=[????], basisvecs=svec,kvecs=np.array([0.5,0.5,0.5]),rmaxAtoms=25,\n",
    "                   ffparamkey='Mn4',origin=struc[2].xyz_cartn)\n",
    "\n",
    "# Very important: Note that we passed a value for the \"origin\" attribute when creating our MagSpecies.\n",
    "# This specifies the origin relative to which the propagation vector modulates the spins. By default,\n",
    "# it is the origin of the direct lattice, but if the magnetic atom is not located precisely at the\n",
    "# origin, then this will result in non-physical complex spins. Therefore, we set the origin equal\n",
    "# to the Cartesian coordinates of the Mn atom in the unit cell.\n",
    "\n",
    "mstruc = MagStructure()\n",
    "mstruc.loadSpecies(mspec)\n",
    "mstruc.makeAll() ### populates the spin and atom arrays\n",
    "\n",
    "### Make the MPDFcalculator\n",
    "\n",
    "mc = MPDFcalculator(magstruc=mstruc,qdamp=0.025)\n",
    "\n",
    "### Calculate and plot the mPDF\n",
    "rmag, gmagNrm, gmag = mc.calc(both=True)\n",
    "mc.plot(both=True)"
   ]
  },
  {
   "cell_type": "markdown",
   "metadata": {},
   "source": [
    "### Inspect the fit residuals and look for evidence for a magnetic PDF signal"
   ]
  },
  {
   "cell_type": "code",
   "execution_count": null,
   "metadata": {},
   "outputs": [],
   "source": [
    "### Read in the fits done at 90 K and 360 K\n",
    "r, gobs, gcalc, gdiff = read_fgr('files/SBMOfit_PDFgui_90K.fgr')\n",
    "r360, gobs360, gcalc360, gdiff360 = read_fgr('files/SBMOfit_PDFgui_360K.fgr')\n",
    "\n",
    "### Plot the 90 K fit residual with the calculated mPDF (scaled to match the data)\n",
    "fig = plt.figure()\n",
    "ax = fig.add_subplot(111)\n",
    "ax.set_xlabel('r ($\\AA$)')\n",
    "ax.set_ylabel('G ($\\AA^{-2}$)')\n",
    "ax.plot(r, gdiff)\n",
    "ax.plot(rmag, gmag*????) # play around with this until you find a good scaling factor\n",
    "plt.tight_layout()\n",
    "plt.show()"
   ]
  },
  {
   "cell_type": "markdown",
   "metadata": {},
   "source": [
    "It looks like there could be some rough agreement between the fit residual and the calculated mPDF. (Note that the high-frequency wiggles in the fit residual cannot possibly be magnetic in origin, since the mPDF is guaranteed to be much broader than that.)\n",
    "\n",
    "Let's try to clean up the signal by subtracting the high-temperature data."
   ]
  },
  {
   "cell_type": "code",
   "execution_count": null,
   "metadata": {},
   "outputs": [],
   "source": [
    "gdiffSub = gdiff - gdiff360\n",
    "\n",
    "fig = plt.figure()\n",
    "ax = fig.add_subplot(111)\n",
    "ax.set_xlabel('r ($\\AA$)')\n",
    "ax.set_ylabel('G ($\\AA^{-2}$)')\n",
    "ax.plot(r, gdiffSub)\n",
    "ax.plot(rmag, gmag*????)\n",
    "plt.tight_layout()\n",
    "plt.show()"
   ]
  },
  {
   "cell_type": "markdown",
   "metadata": {},
   "source": [
    "This is starting to look promising! We can do one more trick to improve the subtraction: run the optimizedSubtraction() routine, which attempts to account for thermal expansion and thermal broadening by applying stretching and broadening operations to the low-temperature data. Execute the cell below to learn more about how it works."
   ]
  },
  {
   "cell_type": "code",
   "execution_count": null,
   "metadata": {},
   "outputs": [],
   "source": [
    "optimizedSubtraction?"
   ]
  },
  {
   "cell_type": "code",
   "execution_count": null,
   "metadata": {},
   "outputs": [],
   "source": [
    "r_opt, gdiff_opt = optimizedSubtraction(????)\n",
    "\n",
    "fig = plt.figure()\n",
    "ax = fig.add_subplot(111)\n",
    "ax.set_xlabel('r ($\\AA$)')\n",
    "ax.set_ylabel('G ($\\AA^{-2}$)')\n",
    "ax.plot(r_opt, gdiff_opt)\n",
    "ax.plot(rmag, gmag*????)\n",
    "plt.tight_layout()\n",
    "plt.show()"
   ]
  },
  {
   "cell_type": "markdown",
   "metadata": {},
   "source": [
    "We can also apply an aesthetic correction. Since we know the high-frequency noise cannot be magnetic in origin, we can filter it out using the smoothData() function. Learn more about it below:"
   ]
  },
  {
   "cell_type": "code",
   "execution_count": null,
   "metadata": {},
   "outputs": [],
   "source": [
    "smoothData?"
   ]
  },
  {
   "cell_type": "markdown",
   "metadata": {},
   "source": [
    "We will just use the standard step-function cutoff. Let's try 6 A^-1 and see how that looks."
   ]
  },
  {
   "cell_type": "code",
   "execution_count": null,
   "metadata": {},
   "outputs": [],
   "source": [
    "gsmooth = smoothData(r_opt, gdiff_opt, 6)\n",
    "\n",
    "fig = plt.figure()\n",
    "ax = fig.add_subplot(111)\n",
    "ax.set_xlabel('r ($\\AA$)')\n",
    "ax.set_ylabel('G ($\\AA^{-2}$)')\n",
    "ax.plot(r_opt, gsmooth)\n",
    "ax.plot(rmag, gmag*????)\n",
    "plt.tight_layout()\n",
    "plt.show()"
   ]
  },
  {
   "cell_type": "markdown",
   "metadata": {},
   "source": [
    "Not bad! Now we can do an actual fit to improve the agreement. Note that we should fit to the original data, not the smoothed data, but we can always do the visual comparison with the smoothed data to see how it looks.\n",
    "\n",
    "For fitting parameters, let's choose the two scale factors (paraScale and ordScale) and the two spherical angles to allow us to refine the spin direction. To keep things simple, we'll just use least_squares directly without implementing the full diffpy.srfit framework."
   ]
  },
  {
   "cell_type": "code",
   "execution_count": null,
   "metadata": {},
   "outputs": [],
   "source": [
    "### Update rmin and rmax to agree with the data\n",
    "mc.rmin = r_opt.min()\n",
    "mc.rmax = r_opt.max()\n",
    "\n",
    "### Define masks for the up and down spins\n",
    "\n",
    "upSpins = ????\n",
    "downSpins = ~upSpins\n",
    "\n",
    "# Define the mPDF function that will be evaluated in the fit\n",
    "def mpdf(p):\n",
    "    ordscale, parascale, th, phi = p\n",
    "    mc.ordScale = ordscale\n",
    "    mc.paraScale = parascale\n",
    "    # components of our new spin vector\n",
    "    sx = ????\n",
    "    sy = ????\n",
    "    sz = ????\n",
    "    newSvec = np.array([sx, sy, sz])\n",
    "    mstruc.spins[upSpins] = 1.0*newSvec\n",
    "    mstruc.spins[downSpins] = -1.0*newSvec\n",
    "    return mc.calc(both=True)[2] # just returning the unnormalized mPDF\n",
    "\n",
    "\n",
    "def residual(p, data):\n",
    "    return data - mpdf(p)\n",
    "\n",
    "# set starting parameter values (same order as defined in the mpdf(p) function)\n",
    "p0 = [0.01, 0.01, np.pi/2, 0] \n",
    "\n",
    "# set reasonable lower and upper bounds for the parameters\n",
    "lb = [0, 0, 0, -np.pi]\n",
    "ub = [10, 10, np.pi, np.pi]\n",
    "\n",
    "# run the optimization\n",
    "opt = least_squares(residual, p0, bounds=[lb,ub], args=(gdiff_opt,)) # passing gdiff_opt as the \"data\" argument in residual()\n",
    "\n",
    "# print the refined parameter values\n",
    "print(opt.x)\n",
    "\n",
    "# calculate the best-fit mPDF to plot later\n",
    "magcalc = mpdf(opt.x)\n",
    "\n",
    "# print out the refined spin direction\n",
    "print(mstruc.spins[0])"
   ]
  },
  {
   "cell_type": "markdown",
   "metadata": {},
   "source": [
    "Now we plot the results. We'll include both the atomic and magnetic PDF fits."
   ]
  },
  {
   "cell_type": "code",
   "execution_count": null,
   "metadata": {},
   "outputs": [],
   "source": [
    "baseline = 1.2 * gobs.min()\n",
    "overall_residual = gdiff_opt - magcalc\n",
    "\n",
    "fig = plt.figure(figsize=(6,8))\n",
    "ax = fig.add_subplot(211)\n",
    "ax2 = fig.add_subplot(212)\n",
    "ax.plot(r, gobs, 'bo', label=\"G(r) data\",markerfacecolor='none', markeredgecolor='b')\n",
    "ax.plot(r, gcalc+magcalc, 'r-', lw=1.5, label=\"G(r) fit\")\n",
    "ax.plot(r, gdiff_opt + baseline,marker='o',mec='Gray',mfc='None',linestyle='None')\n",
    "ax.plot(r, magcalc + baseline, marker='None',color='Blue',lw=2)\n",
    "ax.plot(r, overall_residual+1.4*baseline, 'g-')\n",
    "ax.plot(r, np.zeros_like(r) + 1.4*baseline, 'k:')\n",
    "\n",
    "\n",
    "ax.set_xlabel(r\"r ($\\mathdefault{\\AA}$)\")\n",
    "ax.set_ylabel(r\"G ($\\mathdefault{\\AA^{-2}}$)\")\n",
    "\n",
    "ax2.plot(r, gdiff_opt, linestyle='-', lw=0.5, color='k') # unsmoothed version\n",
    "ax2.plot(r, gsmooth, marker='o',mec='Gray',mfc='None',linestyle='None', label='G$_{\\mathdefault{mag}}$') #smoothed version\n",
    "ax2.plot(r, magcalc, 'b-', lw=1.5, label=\"G$_{\\mathdefault{mag}}$ fit\")\n",
    "ax.legend()\n",
    "ax2.legend()\n",
    "ax2.set_xlabel(r\"r ($\\mathdefault{\\AA}$)\")\n",
    "ax2.set_ylabel(r\"G$_{\\mathdefault{mag}}$ ($\\mathdefault{\\AA^{-2}}$)\")\n",
    "\n",
    "plt.show()"
   ]
  },
  {
   "cell_type": "code",
   "execution_count": null,
   "metadata": {},
   "outputs": [],
   "source": [
    "plt.close('all')"
   ]
  },
  {
   "cell_type": "markdown",
   "metadata": {},
   "source": [
    "Let's check the ordered moment that corresponds to our fit. This is a good sanity check; if we get an unreasonably large or small value, it could mean that there is something wrong with the fit."
   ]
  },
  {
   "cell_type": "code",
   "execution_count": null,
   "metadata": {},
   "outputs": [],
   "source": [
    "nucScale = 0.613\n",
    "\n",
    "calculate_ordered_moment(mc, nucScale)"
   ]
  },
  {
   "cell_type": "markdown",
   "metadata": {},
   "source": [
    "This seems like a reasonable value for Mn4+. Another successful mPDF fit!"
   ]
  }
 ],
 "metadata": {
  "kernelspec": {
   "display_name": "Python 3 (ipykernel)",
   "language": "python",
   "name": "python3"
  },
  "language_info": {
   "codemirror_mode": {
    "name": "ipython",
    "version": 3
   },
   "file_extension": ".py",
   "mimetype": "text/x-python",
   "name": "python",
   "nbconvert_exporter": "python",
   "pygments_lexer": "ipython3",
   "version": "3.7.13"
  }
 },
 "nbformat": 4,
 "nbformat_minor": 2
}
