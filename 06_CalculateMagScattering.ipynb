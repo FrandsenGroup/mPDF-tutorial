{
 "cells": [
  {
   "cell_type": "markdown",
   "metadata": {},
   "source": [
    "# Module 6: Calculating the magnetic scattering from the mPDF"
   ]
  },
  {
   "cell_type": "markdown",
   "metadata": {},
   "source": [
    "Here, we show how to generate the magnetic scattering pattern from a corresponding mPDF pattern. We will use MnTe as an example case. This functionality is intended primarily as a tool for qualitative analysis of diffuse magnetic scattering patterns to complement real-space mPDF analysis. If you are interested in performing a genuine magnetic structure solution by refining a model against magnetic Bragg peaks, then you will be better served by programs such as FullProf or GSAS. If you are interested in fitting a magnetic model or magnetic interactions to diffuse magnetic scattering in reciprocal space, then Spinvert and Spinteract by Joe Paddison are good options."
   ]
  },
  {
   "cell_type": "code",
   "execution_count": null,
   "metadata": {},
   "outputs": [],
   "source": [
    "### Import the necessary libraries\n",
    "import numpy as np\n",
    "import matplotlib.pyplot as plt\n",
    "from diffpy.mpdf import *\n",
    "\n",
    "### Set all plots to be inline\n",
    "%matplotlib notebook"
   ]
  },
  {
   "cell_type": "markdown",
   "metadata": {},
   "source": [
    "### Case 1: Long-range magnetic order"
   ]
  },
  {
   "cell_type": "markdown",
   "metadata": {},
   "source": [
    "To calculate a magnetic scattering pattern with minimal artifacts from Fourier ripples, you first need to calculate the mPDF far enough in r such that the mPDF has been damped to zero. In the case of long-range magnetic order, real-space damping comes from the finite Q-space resolution, captured by the parameter qdamp. We'll use a realistic value of qdamp for typical total scattering instruments (0.025 in this case), meaning we need to calculate the mPDF out to about 200 A."
   ]
  },
  {
   "cell_type": "code",
   "execution_count": null,
   "metadata": {},
   "outputs": [],
   "source": [
    "### Set up the magnetic structure\n",
    "\n",
    "# create the MagStructure object by reading in the MCIF\n",
    "mcif = 'files/0.800_MnTe.mcif'\n",
    "mstr = ???? # don't forget to set the rmaxAtoms value to 200\n",
    "\n",
    "# generate the spins\n",
    "????"
   ]
  },
  {
   "cell_type": "code",
   "execution_count": null,
   "metadata": {},
   "outputs": [],
   "source": [
    "### Create the mPDF calculator. Be sure to set the calculation range to 200 A.\n",
    "### Also set the qdamp value to 0.025, which is typical of neutron total scattering diffractometer.\n",
    "### Finally, set the paraScale value to 20 and the ordScale value to 1. This ratio affects\n",
    "### the baseline of the calculated diffraction pattern, so if the baseline looks a little weird\n",
    "### (e.g. very negative or very positive), you can play around with the paraScale value.\n",
    "### If the baseline is too positive, then decrease paraScale. If it is too negative, then increase it.\n",
    "????"
   ]
  },
  {
   "cell_type": "code",
   "execution_count": null,
   "metadata": {},
   "outputs": [],
   "source": [
    "### Calculate the mPDF, including both the normalized and unnormalized mPDF quantities.\n",
    "r, f, d = ????\n",
    "\n",
    "# plot to make sure we have a sufficiently long range in which the mPDF damps to zero.\n",
    "fig = plt.figure()\n",
    "ax = fig.add_subplot()\n",
    "ax.set_xlabel(r'r ($\\mathdefault{\\AA}$)')\n",
    "ax.set_ylabel(r'mPDF')\n",
    "\n",
    "ax.plot(r, d)\n",
    "\n",
    "plt.tight_layout()\n",
    "plt.show()"
   ]
  },
  {
   "cell_type": "markdown",
   "metadata": {},
   "source": [
    "Now we are ready to generate the magnetic scattering pattern. There are two quantities we can generate: (1) the usual magnetic scattering intensity I(Q) that would be measured at the beamline; and (2) the magnetic structure function S(Q) which has been normalized by the squared magnetic form factor. In the first case, we input the unnormalized mPDF; in the second case, the normalized mPDF."
   ]
  },
  {
   "cell_type": "code",
   "execution_count": null,
   "metadata": {},
   "outputs": [],
   "source": [
    "### Calculate the magnetic scattering intensity I(Q)\n",
    "q, iq = calculateMagScatt(r, d, qmin=0.1, qmax=10, qstep=0.01, quantity='iq')\n",
    "\n",
    "# plot the result\n",
    "fig = plt.figure()\n",
    "ax = fig.add_subplot()\n",
    "ax.set_xlabel('Q ($\\mathdefault{\\AA^{-1}}$)')\n",
    "ax.set_ylabel('Intensity')\n",
    "\n",
    "ax.plot(q, iq)\n",
    "\n",
    "plt.tight_layout()\n",
    "plt.show()"
   ]
  },
  {
   "cell_type": "code",
   "execution_count": null,
   "metadata": {},
   "outputs": [],
   "source": [
    "### Now calculate the magnetic structure function S(Q).\n",
    "\n",
    "# Note that we input the normalized mPDF f as the second argument and 'sq' for 'quantity'\n",
    "q, sq = calculateMagScatt(r, f, qmin=0.1, qmax=10, qstep=0.01, quantity='sq')\n",
    "\n",
    "# plot the result\n",
    "fig = plt.figure()\n",
    "ax = fig.add_subplot()\n",
    "ax.set_xlabel('Q ($\\mathdefault{\\AA^{-1}}$)')\n",
    "ax.set_ylabel('S(Q)')\n",
    "\n",
    "ax.plot(q, sq)\n",
    "\n",
    "plt.tight_layout()\n",
    "plt.show()"
   ]
  },
  {
   "cell_type": "code",
   "execution_count": null,
   "metadata": {},
   "outputs": [],
   "source": [
    "plt.close('all')"
   ]
  },
  {
   "cell_type": "markdown",
   "metadata": {},
   "source": [
    "### Case 2: Short-range magnetic order with an isotropic correlation length"
   ]
  },
  {
   "cell_type": "markdown",
   "metadata": {},
   "source": [
    "Now we'll apply a finite correlation length, so the sharp magnetic Bragg peaks should become broad and diffuse. Due to the shorter correlation length, we can calculate the mPDF out to a shorter distance. Use an rmax of 75 in this case."
   ]
  },
  {
   "cell_type": "code",
   "execution_count": null,
   "metadata": {},
   "outputs": [],
   "source": [
    "????"
   ]
  },
  {
   "cell_type": "code",
   "execution_count": null,
   "metadata": {},
   "outputs": [],
   "source": [
    "### Set up the mPDF calculator in the same way you did before.\n",
    "????"
   ]
  },
  {
   "cell_type": "code",
   "execution_count": null,
   "metadata": {},
   "outputs": [],
   "source": [
    "### Calculate the mPDF (normalized and unnormalized)\n",
    "r, f, d = ????\n",
    "\n",
    "# plot to make sure we have a sufficiently long range in which the mPDF damps to zero.\n",
    "fig = plt.figure()\n",
    "ax = fig.add_subplot()\n",
    "ax.set_xlabel(r'r ($\\mathdefault{\\AA}$)')\n",
    "ax.set_ylabel(r'mPDF')\n",
    "\n",
    "ax.plot(r,d)\n",
    "\n",
    "plt.tight_layout()\n",
    "plt.show()"
   ]
  },
  {
   "cell_type": "code",
   "execution_count": null,
   "metadata": {},
   "outputs": [],
   "source": [
    "### Calculate the magnetic scattering intensity I(Q)\n",
    "????"
   ]
  },
  {
   "cell_type": "markdown",
   "metadata": {},
   "source": [
    "How are the peaks different from the previous case of long-range magnetic order?"
   ]
  },
  {
   "cell_type": "code",
   "execution_count": null,
   "metadata": {},
   "outputs": [],
   "source": [
    "plt.close('all')"
   ]
  },
  {
   "cell_type": "markdown",
   "metadata": {},
   "source": [
    "### Case 3: Short-range magnetic order with strongly one-dimensional correlation length"
   ]
  },
  {
   "cell_type": "markdown",
   "metadata": {},
   "source": [
    "Just for fun, let's apply a strongly anisotropic correlation length that results in quasi-1D correlations along the c axis. We will see the characteristic asymmetry in the intensity peaks in the scattering pattern. For more examples involving an anisotropic correlation length, see 05_3DmPDF.ipynb."
   ]
  },
  {
   "cell_type": "code",
   "execution_count": null,
   "metadata": {},
   "outputs": [],
   "source": [
    "### Set up the magnetic structure\n",
    "\n",
    "rmax = 200\n",
    "\n",
    "# create the MagStructure object by reading in the MCIF\n",
    "mcif = 'files/0.800_MnTe.mcif'\n",
    "mstr = create_from_mcif(mcif, ffparamkey='Mn2', rmaxAtoms=rmax)\n",
    "\n",
    "# now we'll create an anisotropic correlation length\n",
    "xi_ab = 3\n",
    "xi_c = 50\n",
    "mstr.dampingMat = np.array([[1/xi_ab**2,0,0],[0,1/xi_ab**2,0],[0,0,1/xi_c**2]])\n",
    "\n",
    "# populate the MagStructure\n",
    "mstr.makeAll()"
   ]
  },
  {
   "cell_type": "code",
   "execution_count": null,
   "metadata": {},
   "outputs": [],
   "source": [
    "### Set up the mPDF calculator\n",
    "mc = MPDFcalculator(mstr)\n",
    "mc.rmin = 0.05\n",
    "mc.rmax = rmax\n",
    "mc.qdamp = 0.025  # typical value of qdamp at neutron total scattering diffractometers\n",
    "mc.ordScale = 1\n",
    "mc.paraScale = 20"
   ]
  },
  {
   "cell_type": "markdown",
   "metadata": {},
   "source": [
    "Now we calculate the mPDF. It will take quite a bit longer this time, because the anisotropic correlation length requires a more involved calculation."
   ]
  },
  {
   "cell_type": "code",
   "execution_count": null,
   "metadata": {},
   "outputs": [],
   "source": [
    "### Calculate the mPDF\n",
    "r, f, d = mc.calc(both=True, correlationMethod='full') # note the added correlationMethod argument\n",
    "\n",
    "# plot to make sure we have a sufficiently long range in which the mPDF damps to zero.\n",
    "fig = plt.figure()\n",
    "ax = fig.add_subplot()\n",
    "ax.set_xlabel(r'r ($\\mathdefault{\\AA}$)')\n",
    "ax.set_ylabel(r'mPDF')\n",
    "\n",
    "ax.plot(r,d)\n",
    "\n",
    "plt.tight_layout()\n",
    "plt.show()"
   ]
  },
  {
   "cell_type": "code",
   "execution_count": null,
   "metadata": {},
   "outputs": [],
   "source": [
    "### Calculate the magnetic scattering intensity I(Q)\n",
    "q, iq = calculateMagScatt(r, d, qmin=0.1, qmax=10, qstep=0.01, quantity='iq')\n",
    "\n",
    "# plot the result\n",
    "fig = plt.figure()\n",
    "ax = fig.add_subplot()\n",
    "ax.set_xlabel('Q ($\\mathdefault{\\AA^{-1}}$)')\n",
    "ax.set_ylabel('Intensity')\n",
    "\n",
    "ax.plot(q, iq)\n",
    "\n",
    "plt.tight_layout()\n",
    "plt.show()"
   ]
  },
  {
   "cell_type": "markdown",
   "metadata": {},
   "source": [
    "Note that a couple of the peaks are strongly asymmetrical, with a sharp rise on the low-Q side and a broader tail on the high-Q side. This is characteristic of low-dimensional correlations."
   ]
  },
  {
   "cell_type": "code",
   "execution_count": null,
   "metadata": {},
   "outputs": [],
   "source": [
    "plt.close('all')"
   ]
  },
  {
   "cell_type": "markdown",
   "metadata": {},
   "source": [
    "### Exercises\n",
    " - Go back to the case of long-range magnetic correlations and calculate the magnetic scattering again, but this time use the mPDF over a much shorter r-range (maybe 30 A) as input. What does the calculated magnetic scattering look like now? Why does it look this way?\n",
    " - Create your own magnetic structure from scratch that consists of a square lattice of antiferromagnetically aligned spins (e.g. all four nearest neighbors are opposite any given spin). Calculate the mPDF and the magnetic scattering pattern for a long-range ordered state and a short-range ordered state. Comment on the peak shape in reciprocal space."
   ]
  }
 ],
 "metadata": {
  "kernelspec": {
   "display_name": "Python 3 (ipykernel)",
   "language": "python",
   "name": "python3"
  },
  "language_info": {
   "codemirror_mode": {
    "name": "ipython",
    "version": 3
   },
   "file_extension": ".py",
   "mimetype": "text/x-python",
   "name": "python",
   "nbconvert_exporter": "python",
   "pygments_lexer": "ipython3",
   "version": "3.7.13"
  }
 },
 "nbformat": 4,
 "nbformat_minor": 1
}
