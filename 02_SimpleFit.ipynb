{
 "cells": [
  {
   "cell_type": "markdown",
   "metadata": {},
   "source": [
    "# Module 2: Simple fit to the PDFgui residual"
   ]
  },
  {
   "cell_type": "markdown",
   "metadata": {},
   "source": [
    "In this tutorial, we will do a simple mPDF fit for the antiferromagnet MnO using the residual from the atomic PDF fit conducted in PDFgui. The experiment was done on the NOMAD beamline at the Spallation Neutron Source. To keep things simple, we will just refine the mPDF scale factors here."
   ]
  },
  {
   "cell_type": "markdown",
   "metadata": {},
   "source": [
    "### Step 1: Do the atomic PDF fit in PDFgui."
   ]
  },
  {
   "cell_type": "markdown",
   "metadata": {},
   "source": [
    "A fit has already been done for you, but if you would like to do it yourself, load in the data file called NOM_9999_MnO_5K_ftfrgr.gr. You can use the CIF file called MnO_cubic.cif as a starting model. Do the fit up to 20 A. Note that the magnetic order in MnO causes a distortion of the crystal lattice in which the cubic cell compresses along the [111] direction. For that reason, you will want to create a single variable for alpha, beta, and gamma parameters that is allowed to vary from 90 degrees. I would suggest giving it a slight nudge away from 90 (maybe to 90.1 or so). Also note that the instrumental parameters Qdamp and Qbroad should both be 0.025."
   ]
  },
  {
   "cell_type": "markdown",
   "metadata": {},
   "source": [
    "### Step 2: Export the PDFgui fit."
   ]
  },
  {
   "cell_type": "markdown",
   "metadata": {},
   "source": [
    "Again, this has already been done for you, but if you want to do it yourself, then select the data file in the Fit Tree, then go to the top of the window and select Data --> Export Fit PDF. Save the file in a convenient place easily accessible from this notebook."
   ]
  },
  {
   "cell_type": "markdown",
   "metadata": {},
   "source": [
    "### Step 3: Load in the atomic PDF fit residual and do the mPDF fit."
   ]
  },
  {
   "cell_type": "code",
   "execution_count": null,
   "metadata": {},
   "outputs": [],
   "source": [
    "### Import the necessary libraries\n",
    "import numpy as np\n",
    "import matplotlib.pyplot as plt\n",
    "from diffpy.mpdf import *\n",
    "from diffpy.structure import loadStructure\n",
    "\n",
    "### Set all plots to be inline\n",
    "%matplotlib notebook"
   ]
  },
  {
   "cell_type": "markdown",
   "metadata": {},
   "source": [
    "#### Make the magnetic structure"
   ]
  },
  {
   "cell_type": "code",
   "execution_count": null,
   "metadata": {},
   "outputs": [],
   "source": [
    "### Read in the mcif\n",
    "mcif = 'files/1.31_MnO.mcif'\n",
    "mstr = create_from_mcif(????)\n",
    "\n",
    "\n",
    "### Adjust the unit cell parameters to agree with the results of the structural fit.\n",
    "### If you did not do your own PDFgui fit, then navigate to the \"files\" directory\n",
    "### and open up the file MnO_struc_NOMAD.stru, which contains the best-fit structural\n",
    "### parameters. The line beginning with \"cell\" contains a, b, c, alpha, beta, and gamma.\n",
    "a_fit = ???? # fill in the value from the fit\n",
    "alpha_fit = ???? # fill in the value from the fit\n",
    "mstr.struc.lattice.a = 2*a_fit # multiply by two because the magnetic unit cell is 2x2x2 supercell of atomic cell\n",
    "mstr.struc.lattice.b = ????\n",
    "mstr.struc.lattice.c = ????\n",
    "mstr.struc.lattice.alpha = ????\n",
    "mstr.struc.lattice.beta = ????\n",
    "mstr.struc.lattice.gamma = ????\n",
    "\n",
    "# Now generate the spin positions, spin vectors, etc with the makeAll() method\n",
    "????"
   ]
  },
  {
   "cell_type": "markdown",
   "metadata": {},
   "source": [
    "#### Extract the data, load it into a Profile object"
   ]
  },
  {
   "cell_type": "code",
   "execution_count": null,
   "metadata": {},
   "outputs": [],
   "source": [
    "fit_file = 'files/MnOfit_PDFgui_NOMAD.fgr'\n",
    "r, gobs, gcalc, gdiff = read_fgr(fit_file) # this extracts the results of the atomic PDF fit done in PDFgui\n",
    "gmag = 1.0 * gdiff # we set the experimental mPDF to the fit residual from the atomic PDF fit\n",
    "\n",
    "### Let's plot it just to make sure it looks right\n",
    "\n",
    "ax=plt.figure().add_subplot(111)\n",
    "ax.plot(r, gmag)\n",
    "ax.set_xlabel(r\"r ($\\AA$)\")\n",
    "ax.set_ylabel(r\"G$_{mag}$ ($\\AA^{-2}$)\")\n",
    "\n",
    "plt.show()"
   ]
  },
  {
   "cell_type": "markdown",
   "metadata": {},
   "source": [
    "#### Now we start building the fit in the diffpy.srfit framework"
   ]
  },
  {
   "cell_type": "code",
   "execution_count": null,
   "metadata": {},
   "outputs": [],
   "source": [
    "### Create a profile object and load the data into it\n",
    "from diffpy.srfit.fitbase import Profile\n",
    "\n",
    "profile = Profile() # this will store the data and metadata\n",
    "profile.setObservedProfile(r, gmag)"
   ]
  },
  {
   "cell_type": "markdown",
   "metadata": {},
   "source": [
    "#### Make the MPDFcalculator, set up the fit"
   ]
  },
  {
   "cell_type": "code",
   "execution_count": null,
   "metadata": {},
   "outputs": [],
   "source": [
    "### Create the MPDFcalculator\n",
    "mc = MPDFcalculator(????)\n",
    "\n",
    "### Set appropriate rmin and rmax\n",
    "mc.rmin = profile.xobs.min()\n",
    "mc.rmax = profile.xobs.max()\n",
    "\n",
    "### Set the qdamp parameter determined from the experimental conditions\n",
    "mc.qdamp = 0.025"
   ]
  },
  {
   "cell_type": "code",
   "execution_count": null,
   "metadata": {},
   "outputs": [],
   "source": [
    "### Make the FitContribution\n",
    "from diffpy.srfit.fitbase import FitContribution\n",
    "\n",
    "mfit = FitContribution('mfit')\n",
    "mfit.setProfile(profile)\n",
    "\n",
    "### Define the function that will calculate the mPDF.\n",
    "def mpdf(parascale, ordscale):\n",
    "    ### parascale sets the magnitude of the self-scattering peak below ~1 A\n",
    "    ### ordscale sets the magnitude of the mPDF\n",
    "    mc.paraScale, mc.ordScale = parascale, ordscale\n",
    "    rcalc, gcalc, dcalc = mc.calc(both=True)\n",
    "    # we want to return the \"unnormalized\" mPDF dcalc\n",
    "    return dcalc\n",
    "\n",
    "### Now we load this function into our FitContribution\n",
    "mfit.registerFunction(mpdf)\n",
    "\n",
    "### Now we set the equation that the FitContribution will evaluate during the fit\n",
    "mfit.setEquation(\"mpdf(parascale, ordscale)\")"
   ]
  },
  {
   "cell_type": "code",
   "execution_count": null,
   "metadata": {},
   "outputs": [],
   "source": [
    "### Make the FitRecipe\n",
    "from diffpy.srfit.fitbase import FitRecipe\n",
    "recipe = FitRecipe()\n",
    "\n",
    "### Give the PDFContribution to the FitRecipe\n",
    "recipe.addContribution(mfit)\n",
    "\n",
    "### Add the mPDF variables\n",
    "recipe.addVar(mfit.parascale, 0.1) # 0.1 is the starting value\n",
    "recipe.addVar(mfit.ordscale, 0.1)"
   ]
  },
  {
   "cell_type": "markdown",
   "metadata": {},
   "source": [
    "#### Run the refinement"
   ]
  },
  {
   "cell_type": "code",
   "execution_count": null,
   "metadata": {},
   "outputs": [],
   "source": [
    "# Turn off printout of iteration number.\n",
    "recipe.clearFitHooks()\n",
    "\n",
    "print(\"Refine using scipy's least-squares optimizer:\")\n",
    "print(\"  variables:\", recipe.names)\n",
    "print(\"  initial values:\", recipe.values)\n",
    "\n",
    "from scipy.optimize import least_squares\n",
    "\n",
    "# This is where we run the least squares minimization\n",
    "least_squares(recipe.residual, recipe.values)\n",
    "print(\"  final values:\", recipe.values)\n",
    "\n",
    "# Pull out the calculated mPDF and compare it to the data\n",
    "fit = mfit.evaluateEquation(\"mpdf\")\n",
    "mdiff = gmag - fit\n",
    "\n",
    "### Plot the results\n",
    "\n",
    "ax=plt.figure().add_subplot(111)\n",
    "ax.plot(r, gmag, 'bo', label=\"mPDF data\", markerfacecolor='none', markeredgecolor='b')\n",
    "ax.plot(r, fit, 'r-', lw=2, label=\"mPDF fit\")\n",
    "ax.set_xlabel(r\"r ($\\AA$)\")\n",
    "ax.set_ylabel(r\"G$_{mag}$ ($\\AA^{-2}$)\")\n",
    "ax.set_xlim(xmax=mc.rmax)\n",
    "plt.legend(loc=1)\n",
    "\n",
    "plt.show()"
   ]
  },
  {
   "cell_type": "code",
   "execution_count": null,
   "metadata": {},
   "outputs": [],
   "source": [
    "### Plot the total PDF (atomic + magnetic) with the total fit\n",
    "\n",
    "offset1 = 1.2*gobs.min()\n",
    "offset2 = offset1 - 8*mdiff.max()\n",
    "\n",
    "# Make the figure.\n",
    "fig = plt.figure()\n",
    "ax = fig.add_subplot(111)\n",
    "ax.plot(r,gobs,marker='o',mfc='none',mec='b',linestyle='none') ### total observed PDF pattern \n",
    "ax.plot(r,gcalc + fit,'r-',lw=2) ### calculated atomic PDF\n",
    "ax.plot(r,gmag+offset1,marker='o',mfc='none',mec='b',linestyle='none') ### residual from atomic PDF fit\n",
    "ax.plot(r,fit+offset1,'r-',lw=2) ### calculated mPDF\n",
    "ax.plot(r,np.zeros_like(r)+offset2,'k:')\n",
    "ax.plot(r,mdiff+offset2,'g-') ### overall fit residual after including atomic and magnetic PDFs\n",
    "ax.set_xlim(xmin=0,xmax=mc.rmax)\n",
    "ax.set_xlabel('r ($\\AA$)')\n",
    "ax.set_ylabel('G, d ($\\AA^{-2}$)')\n",
    "\n",
    "plt.show()"
   ]
  },
  {
   "cell_type": "code",
   "execution_count": null,
   "metadata": {},
   "outputs": [],
   "source": [
    "plt.close('all')"
   ]
  },
  {
   "cell_type": "markdown",
   "metadata": {},
   "source": [
    "#### Compare the magnetic and nuclear scale factors to determine the moment size"
   ]
  },
  {
   "cell_type": "markdown",
   "metadata": {},
   "source": [
    "If we call $A$ the nuclear scale factor, $B$ the mPDF ordered scale factor, $n_s$ the fraction of atoms in the system that are magnetic, and $\\langle b \\rangle$ the average nuclear scattering length of the atoms in the material, then the magnitude of the refined spin vector $\\mathrm{S_{fit}}$ is related to the nominal magnitude of the spin vectors $\\mathrm{S_{nom}}$ used in the magnetic structure through the equation $\\mathrm{S_{fit}} = \\sqrt{\\frac{\\mathrm{B}\\langle b \\rangle ^2}{\\mathrm{A} n_s}} \\mathrm{S_{nom}}$. When multiplied by the g factor (e.g. 2 for pure spins without any orbital contributions to the moment), this gives the ordered moment in Bohr magnetons. We have a built-in function to calculate it for a given mPDF calculator and nuclear scale factor."
   ]
  },
  {
   "cell_type": "code",
   "execution_count": null,
   "metadata": {},
   "outputs": [],
   "source": [
    "nucScale = 0.05277 ### refined nuclear scale factor taken from PDFgui. \n",
    "\n",
    "m = calculate_ordered_moment(mc, nucScale) # Note that this assumes a Lande g factor of 2.\n",
    "\n",
    "print('Ordered moment is ' + str(np.round(m, decimals=2)) + ' mu_B')"
   ]
  },
  {
   "cell_type": "markdown",
   "metadata": {},
   "source": [
    "This is fairly consistent with our expectation of S = 5/2 for Mn2+."
   ]
  }
 ],
 "metadata": {
  "kernelspec": {
   "display_name": "Python 3 (ipykernel)",
   "language": "python",
   "name": "python3"
  },
  "language_info": {
   "codemirror_mode": {
    "name": "ipython",
    "version": 3
   },
   "file_extension": ".py",
   "mimetype": "text/x-python",
   "name": "python",
   "nbconvert_exporter": "python",
   "pygments_lexer": "ipython3",
   "version": "3.7.13"
  }
 },
 "nbformat": 4,
 "nbformat_minor": 1
}
