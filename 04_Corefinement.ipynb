{
 "cells": [
  {
   "cell_type": "markdown",
   "metadata": {},
   "source": [
    "# Module 4: Atomic and magnetic PDF co-refinement using SrFit"
   ]
  },
  {
   "cell_type": "markdown",
   "metadata": {},
   "source": [
    "This notebook provides examples of joint atomic and magnetic PDF fits using two approaches: a true simultaneous corefinement and an iterative refinement that toggles between atomic and magnetic parameters. We will again use MnO as our test case."
   ]
  },
  {
   "cell_type": "markdown",
   "metadata": {},
   "source": [
    "### Import necessary modules"
   ]
  },
  {
   "cell_type": "code",
   "execution_count": null,
   "metadata": {},
   "outputs": [],
   "source": [
    "import numpy as np\n",
    "import matplotlib.pyplot as plt\n",
    "from scipy.optimize import least_squares\n",
    "\n",
    "from diffpy.mpdf import *\n",
    "from diffpy.structure.parsers import getParser\n",
    "from diffpy.srfit.pdf import PDFGenerator, PDFParser\n",
    "from diffpy.srfit.fitbase import FitRecipe, FitResults\n",
    "from diffpy.srfit.fitbase import Profile, FitContribution\n",
    "from diffpy.structure import loadStructure\n",
    "\n",
    "%matplotlib notebook"
   ]
  },
  {
   "cell_type": "markdown",
   "metadata": {},
   "source": [
    "### Set up our fitting procedure"
   ]
  },
  {
   "cell_type": "markdown",
   "metadata": {},
   "source": [
    "In the code below, we define a fitting function that includes both the atomic and magnetic PDF and allow all the parameters to be optimized simultaneously simultaneously (i.e. both atomic and magnetic at once) or iteratively (first atomic, then magnetic, then back to atomic, back to magnetic, etc)."
   ]
  },
  {
   "cell_type": "markdown",
   "metadata": {},
   "source": [
    "##### Important:\n",
    "Unlike the previous example where we used the cubic unit cell (albeit distorted such that the angles where different than 90 degrees), here we use the rhombohedral unit cell that describes the atomic structure in the distorted antiferromagnetic state. Compared to the cubic unit cell, the rhombohedral cell has been rotated such that the rhombohedral c axis is along the cubic [111] axis. In this setting, the magnetic propagation vector is k = (0, 0, 1.5) and the spin vectors are anywhere within the ab plane. Print out the structure in the cell below and identify which indices correspond to the magnetic atoms so you can provide that information later."
   ]
  },
  {
   "cell_type": "code",
   "execution_count": null,
   "metadata": {},
   "outputs": [],
   "source": [
    "rhombo_struc = loadStructure('files/MnO_R-3m.cif')\n",
    "print(rhombo_struc)"
   ]
  },
  {
   "cell_type": "code",
   "execution_count": null,
   "metadata": {},
   "outputs": [],
   "source": [
    "def combined_fit(dataFile, structureFile, rmin=1.5, rmax=20.0, method='corefinement'):\n",
    "    \"\"\"\n",
    "    method = 'corefinement': true simultaneous corefinement of atomic and magnetic parameters\n",
    "    method = 'toggle': iterative fit that toggles between atomic and magnetic parameters\n",
    "    \"\"\"\n",
    "    # load in the starting structure\n",
    "    pcif = getParser('cif')\n",
    "    struc = pcif.parseFile(structureFile)\n",
    "\n",
    "    # prepare profile object with experimental data\n",
    "    profile = Profile()\n",
    "    parser = PDFParser()\n",
    "    parser.parseFile(dataFile)\n",
    "    profile.loadParsedData(parser)\n",
    "    \n",
    "    # define qdamp and qbroad (determined previously from calibration fits)\n",
    "    qdamp = 0.025\n",
    "    qbroad = 0.025\n",
    "\n",
    "    # set up calculation range for the PDF simulation\n",
    "    rstep = 0.01\n",
    "    profile.setCalculationRange(xmin=rmin, xmax=rmax, dx=rstep)\n",
    "\n",
    "    # prepare the function that calculates the atomic PDF\n",
    "    nucpdf = PDFGenerator(\"nucpdf\") # this will calculate the atomic PDF\n",
    "    nucpdf.setStructure(struc)\n",
    "    nucpdf.setProfile(profile)\n",
    "\n",
    "    # prepare a FitContribution object that will include the atomic and magnetic PDF\n",
    "    totpdf = FitContribution('totpdf')\n",
    "    totpdf.addProfileGenerator(nucpdf) # we'll add the mPDF later\n",
    "    totpdf.setProfile(profile)\n",
    "\n",
    "    # set up the MagSpecies\n",
    "    mspec = MagSpecies(struc=struc,rmaxAtoms=rmax,ffparamkey='Mn2')\n",
    "    mspec.strucIdxs = ???? # inspect the unit cell to figure this out\n",
    "    mspec.basisvecs = np.array([????]) # any vector perpendicular to the c axis will be fine\n",
    "    mspec.kvecs = np.array([0, 0, 1.5]) # this gives the desired AF structure for this choice of unit cell\n",
    "\n",
    "    # set up the MagStructure\n",
    "    mstruc = MagStructure(rmaxAtoms=rmax)\n",
    "    mstruc.loadSpecies(mspec)\n",
    "    mstruc.makeAll() ### populates the spin and atom arrays\n",
    "\n",
    "    # create the MPDFcalculator for MnO\n",
    "    mc = MPDFcalculator(magstruc=mstruc,qdamp=qdamp,rmax=rmax,rmin=rmin)\n",
    "\n",
    "    # Define an mPDF function that will be added to the total PDF calculator\n",
    "    def mpdf(ordscale,parascale):\n",
    "        \"\"\"\n",
    "        ordscale = ordered scale factor (mc.ordScale)\n",
    "        parascale = paramagnetic scale factor (mc.paraScale)\n",
    "        \"\"\"\n",
    "        mc.ordScale = ordscale\n",
    "        mc.paraScale = parascale\n",
    "        mstruc.makeAll() # regenerate the spins in each function call to use the latest structural parameters\n",
    "        # return the \"unnormalized\" mPDF\n",
    "        rcalc, fcalc, dcalc = mc.calc(both=True)\n",
    "        return dcalc\n",
    "\n",
    "    # add mPDF to the FitContribution\n",
    "    totpdf.registerFunction(mpdf)\n",
    "    totpdf.setEquation(\"nucscale * nucpdf + mpdf(ordscale,parascale)\")\n",
    "\n",
    "    # Make magnetic PDF depend on any changes to the atomic structure.\n",
    "    # A structure change will now trigger reevaluation of the mPDF.\n",
    "    nucpdf.phase.addObserver(totpdf.ordscale.notify)\n",
    "\n",
    "    # set up the FitRecipe\n",
    "    fit = FitRecipe()\n",
    "    fit.addContribution(totpdf)\n",
    "\n",
    "    # fix qdamp and qbroad based on prior information\n",
    "    fit.addVar(nucpdf.qdamp, qdamp, fixed=True, name='qdamp')\n",
    "    fit.addVar(nucpdf.qbroad, qbroad, fixed=True, name='qbroad')\n",
    "\n",
    "    # Configure the fit variables and give them to the recipe.\n",
    "    from diffpy.srfit.structure import constrainAsSpaceGroup\n",
    "    sgpars = constrainAsSpaceGroup(nucpdf.phase, pcif.spacegroup.short_name) # this loads in the space group symmetry constraints\n",
    "\n",
    "    for par in sgpars.latpars:\n",
    "        fit.addVar(par,tag='LatPars') # we will use these tags later\n",
    "    for par in sgpars.adppars:\n",
    "        fit.addVar(par, value=0.003, tag='ADPs')\n",
    "\n",
    "    # note that there are no positional degrees of freedom (i.e. xyz parameters) for this structure\n",
    "        \n",
    "    fit.addVar(totpdf.nucscale, 0.05, name='nucscale')\n",
    "    fit.addVar(nucpdf.delta1, value=1.0, name='delta1')\n",
    "\n",
    "    # mPDF parameters\n",
    "    fit.addVar(totpdf.parascale, 0, tag='Mag')\n",
    "    rstPs = fit.restrain(totpdf.parascale,lb=0,ub=10.0,sig=0.0001) # set reasonable bounds\n",
    "    fit.addVar(totpdf.ordscale, 0.0, tag='Mag')\n",
    "    rstOs = fit.restrain(totpdf.ordscale,lb=0,ub=10.0,sig=0.0001)\n",
    "\n",
    "    # Turn off printout of iteration number.\n",
    "    fit.clearFitHooks()\n",
    "    fit.fix('all')\n",
    "\n",
    "    # Now we set up either an iterative fit or a true corefinement\n",
    "    if method == 'corefinement':\n",
    "        # Our approach will be to introduce the parameters one group at a time.\n",
    "        # We begin with the structural parameters and then add the magnetic parameters.\n",
    "        # start with scale factor and lattice parameters\n",
    "        fit.free('nucscale')\n",
    "        fit.free('LatPars') # we use the tag LatPars to free all the lattice parameters\n",
    "        print(fit.names)\n",
    "        least_squares(fit.residual,fit.values)\n",
    "\n",
    "        # skipping xyz parameters because there are none in this symmetry\n",
    "\n",
    "        # add the ADps\n",
    "        fit.free('ADPs')\n",
    "        print(fit.names)\n",
    "        least_squares(fit.residual,fit.values)\n",
    "\n",
    "        # add delta1\n",
    "        fit.free('delta1')\n",
    "        print(fit.names)\n",
    "        least_squares(fit.residual,fit.values)\n",
    "\n",
    "        # add the magnetic parameters\n",
    "        fit.free('Mag')\n",
    "        print(fit.names)\n",
    "        least_squares(fit.residual,fit.values) # this is now refining all variables jointly\n",
    "\n",
    "    if method == 'toggle':\n",
    "        # In this approach, we toggle between just structural parameters and just magnetic parameters.\n",
    "        # We iterate back and forth three times (usually sufficient to ensure complete convergence).\n",
    "        numIterations = 3 # number of times to toggle between atomic and magnetic parameters\n",
    "        for i in range(numIterations):\n",
    "            # start with scale factor and lattice parameters\n",
    "            fit.free('nucscale')\n",
    "            fit.free('LatPars') # we use the tag LatPars to free all the lattice parameters\n",
    "            print(fit.names)\n",
    "            least_squares(fit.residual,fit.values)\n",
    "\n",
    "            # skipping xyz parameters because there are none in this symmetry\n",
    "\n",
    "            # add the ADps\n",
    "            fit.free('ADPs')\n",
    "            print(fit.names)\n",
    "            least_squares(fit.residual,fit.values)\n",
    "\n",
    "            # add delta1\n",
    "            fit.free('delta1')\n",
    "            print(fit.names)\n",
    "            least_squares(fit.residual,fit.values)\n",
    "\n",
    "            # now fix all the atomic parameters and free the magnetic parameters\n",
    "            fit.fix('all')\n",
    "\n",
    "            fit.free('Mag')\n",
    "            print(fit.names)\n",
    "            magOpt = least_squares(fit.residual,fit.values)\n",
    "            \n",
    "            if i < (numIterations - 1):\n",
    "                fit.fix('all') # fix all the parameters and start the loop again\n",
    "\n",
    "    # Display results and plot the fit\n",
    "    r = fit.totpdf.profile.x\n",
    "    gobs = fit.totpdf.profile.y\n",
    "\n",
    "    # Get the calculated PDF and compute the difference between the calculated and\n",
    "    # measured PDF\n",
    "    totcalc = fit.totpdf.evaluate() # calculated combined atomic and magnetic PDF\n",
    "    magcalc = mpdf(fit.ordscale.value,fit.parascale.value) # just mPDF\n",
    "    nuccalc = totcalc - magcalc # just atomic PDF\n",
    "    baseline = 1.2 * gobs.min()\n",
    "    nucdiff = gobs - nuccalc\n",
    "    totdiff = gobs - totcalc # total fit residual\n",
    "    results = FitResults(fit)\n",
    "    print('Rw = '+str(results.rw))\n",
    "\n",
    "    # Plot the structural refinement\n",
    "    ax=plt.figure().add_subplot(111)\n",
    "    ax.plot(r, gobs, 'bo', label=\"G(r) data\",markerfacecolor='none', markeredgecolor='b')\n",
    "    ax.plot(r, totcalc, 'r-', lw=1.5, label=\"Total fit\")\n",
    "    ax.plot(r, nucdiff + baseline, marker='o',mec='Gray',mfc='None')\n",
    "    ax.plot(r, magcalc + baseline, marker='None',color='Blue',lw=2, label='mPDF fit')\n",
    "    ax.plot(r, totdiff+1.4*baseline, 'g-')\n",
    "    ax.plot(r, np.zeros_like(r) + 1.4*baseline, 'k:')\n",
    "\n",
    "\n",
    "    ax.set_xlabel(r\"r ($\\mathdefault{\\AA}$)\")\n",
    "    ax.set_ylabel(r\"G ($\\mathdefault{\\AA^{-2}}$)\")\n",
    "    plt.legend()\n",
    "\n",
    "    plt.show()"
   ]
  },
  {
   "cell_type": "markdown",
   "metadata": {},
   "source": [
    "Let's try the true corefinement first."
   ]
  },
  {
   "cell_type": "code",
   "execution_count": null,
   "metadata": {},
   "outputs": [],
   "source": [
    "dataFile = 'files/NOM_9999_MnO_5K_ftfrgr.gr'\n",
    "structureFile = 'files/MnO_R-3m.cif'\n",
    "\n",
    "combined_fit(dataFile, structureFile, rmin=0.2, rmax=20, method='corefinement')"
   ]
  },
  {
   "cell_type": "markdown",
   "metadata": {},
   "source": [
    "And now an iterative fit toggling between atomic and magnetic parameters."
   ]
  },
  {
   "cell_type": "code",
   "execution_count": null,
   "metadata": {},
   "outputs": [],
   "source": [
    "combined_fit(dataFile, structureFile, rmin=0.2, rmax=20, method='toggle')"
   ]
  },
  {
   "cell_type": "markdown",
   "metadata": {},
   "source": [
    "Does either approach have a clear advantage over the other? Note that in some materials, toggling works slightly better and in other materials corefinement does, so it may be worth trying both methods for your data set."
   ]
  },
  {
   "cell_type": "code",
   "execution_count": null,
   "metadata": {},
   "outputs": [],
   "source": [
    "plt.close('all')"
   ]
  },
  {
   "cell_type": "markdown",
   "metadata": {},
   "source": [
    "#### Exercise\n",
    "Repeat the fit above, but this time start with an incorrect spin orientation and add variables to your fit to allow it to converge to the optimal direction."
   ]
  }
 ],
 "metadata": {
  "kernelspec": {
   "display_name": "Python 3 (ipykernel)",
   "language": "python",
   "name": "python3"
  },
  "language_info": {
   "codemirror_mode": {
    "name": "ipython",
    "version": 3
   },
   "file_extension": ".py",
   "mimetype": "text/x-python",
   "name": "python",
   "nbconvert_exporter": "python",
   "pygments_lexer": "ipython3",
   "version": "3.7.13"
  }
 },
 "nbformat": 4,
 "nbformat_minor": 1
}
